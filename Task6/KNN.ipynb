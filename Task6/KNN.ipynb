{
  "nbformat": 4,
  "nbformat_minor": 0,
  "metadata": {
    "colab": {
      "provenance": []
    },
    "kernelspec": {
      "name": "python3",
      "display_name": "Python 3"
    },
    "language_info": {
      "name": "python"
    }
  },
  "cells": [
    {
      "cell_type": "markdown",
      "source": [
        "Importing Required Libraries"
      ],
      "metadata": {
        "id": "dDCQ_Pmr32Pl"
      }
    },
    {
      "cell_type": "code",
      "execution_count": 29,
      "metadata": {
        "id": "V7OzHbV3-bXh"
      },
      "outputs": [],
      "source": [
        "import numpy as np\n",
        "import pandas as pd\n",
        "import matplotlib.pyplot as plt"
      ]
    },
    {
      "cell_type": "markdown",
      "source": [
        "Mount Google Drive"
      ],
      "metadata": {
        "id": "mvEZ8LBB4QQ3"
      }
    },
    {
      "cell_type": "code",
      "source": [
        "from google.colab import drive\n",
        "drive.mount('/content/drive')"
      ],
      "metadata": {
        "colab": {
          "base_uri": "https://localhost:8080/"
        },
        "id": "pvuuAy6v-mPW",
        "outputId": "5603d2a9-632a-429f-9c2c-9b55dc6cb518"
      },
      "execution_count": 30,
      "outputs": [
        {
          "output_type": "stream",
          "name": "stdout",
          "text": [
            "Drive already mounted at /content/drive; to attempt to forcibly remount, call drive.mount(\"/content/drive\", force_remount=True).\n"
          ]
        }
      ]
    },
    {
      "cell_type": "markdown",
      "source": [
        "Load Your Dataset from Drive"
      ],
      "metadata": {
        "id": "RdAcU_bw37iw"
      }
    },
    {
      "cell_type": "code",
      "source": [
        "data = pd.read_csv(\"/content/drive/MyDrive/Datasets/Social_Network_Ads.csv\")\n",
        "data.head()"
      ],
      "metadata": {
        "colab": {
          "base_uri": "https://localhost:8080/",
          "height": 206
        },
        "id": "e2_Re16PA9ZD",
        "outputId": "cdf9e7a4-4295-4702-b190-a4f6f3e3ec50"
      },
      "execution_count": 31,
      "outputs": [
        {
          "output_type": "execute_result",
          "data": {
            "text/plain": [
              "    User ID  Gender  Age  EstimatedSalary  Purchased\n",
              "0  15624510    Male   19            19000          0\n",
              "1  15810944    Male   35            20000          0\n",
              "2  15668575  Female   26            43000          0\n",
              "3  15603246  Female   27            57000          0\n",
              "4  15804002    Male   19            76000          0"
            ],
            "text/html": [
              "\n",
              "  <div id=\"df-ddb6cd21-a56e-48c6-8e62-2df5fe74baf8\" class=\"colab-df-container\">\n",
              "    <div>\n",
              "<style scoped>\n",
              "    .dataframe tbody tr th:only-of-type {\n",
              "        vertical-align: middle;\n",
              "    }\n",
              "\n",
              "    .dataframe tbody tr th {\n",
              "        vertical-align: top;\n",
              "    }\n",
              "\n",
              "    .dataframe thead th {\n",
              "        text-align: right;\n",
              "    }\n",
              "</style>\n",
              "<table border=\"1\" class=\"dataframe\">\n",
              "  <thead>\n",
              "    <tr style=\"text-align: right;\">\n",
              "      <th></th>\n",
              "      <th>User ID</th>\n",
              "      <th>Gender</th>\n",
              "      <th>Age</th>\n",
              "      <th>EstimatedSalary</th>\n",
              "      <th>Purchased</th>\n",
              "    </tr>\n",
              "  </thead>\n",
              "  <tbody>\n",
              "    <tr>\n",
              "      <th>0</th>\n",
              "      <td>15624510</td>\n",
              "      <td>Male</td>\n",
              "      <td>19</td>\n",
              "      <td>19000</td>\n",
              "      <td>0</td>\n",
              "    </tr>\n",
              "    <tr>\n",
              "      <th>1</th>\n",
              "      <td>15810944</td>\n",
              "      <td>Male</td>\n",
              "      <td>35</td>\n",
              "      <td>20000</td>\n",
              "      <td>0</td>\n",
              "    </tr>\n",
              "    <tr>\n",
              "      <th>2</th>\n",
              "      <td>15668575</td>\n",
              "      <td>Female</td>\n",
              "      <td>26</td>\n",
              "      <td>43000</td>\n",
              "      <td>0</td>\n",
              "    </tr>\n",
              "    <tr>\n",
              "      <th>3</th>\n",
              "      <td>15603246</td>\n",
              "      <td>Female</td>\n",
              "      <td>27</td>\n",
              "      <td>57000</td>\n",
              "      <td>0</td>\n",
              "    </tr>\n",
              "    <tr>\n",
              "      <th>4</th>\n",
              "      <td>15804002</td>\n",
              "      <td>Male</td>\n",
              "      <td>19</td>\n",
              "      <td>76000</td>\n",
              "      <td>0</td>\n",
              "    </tr>\n",
              "  </tbody>\n",
              "</table>\n",
              "</div>\n",
              "    <div class=\"colab-df-buttons\">\n",
              "\n",
              "  <div class=\"colab-df-container\">\n",
              "    <button class=\"colab-df-convert\" onclick=\"convertToInteractive('df-ddb6cd21-a56e-48c6-8e62-2df5fe74baf8')\"\n",
              "            title=\"Convert this dataframe to an interactive table.\"\n",
              "            style=\"display:none;\">\n",
              "\n",
              "  <svg xmlns=\"http://www.w3.org/2000/svg\" height=\"24px\" viewBox=\"0 -960 960 960\">\n",
              "    <path d=\"M120-120v-720h720v720H120Zm60-500h600v-160H180v160Zm220 220h160v-160H400v160Zm0 220h160v-160H400v160ZM180-400h160v-160H180v160Zm440 0h160v-160H620v160ZM180-180h160v-160H180v160Zm440 0h160v-160H620v160Z\"/>\n",
              "  </svg>\n",
              "    </button>\n",
              "\n",
              "  <style>\n",
              "    .colab-df-container {\n",
              "      display:flex;\n",
              "      gap: 12px;\n",
              "    }\n",
              "\n",
              "    .colab-df-convert {\n",
              "      background-color: #E8F0FE;\n",
              "      border: none;\n",
              "      border-radius: 50%;\n",
              "      cursor: pointer;\n",
              "      display: none;\n",
              "      fill: #1967D2;\n",
              "      height: 32px;\n",
              "      padding: 0 0 0 0;\n",
              "      width: 32px;\n",
              "    }\n",
              "\n",
              "    .colab-df-convert:hover {\n",
              "      background-color: #E2EBFA;\n",
              "      box-shadow: 0px 1px 2px rgba(60, 64, 67, 0.3), 0px 1px 3px 1px rgba(60, 64, 67, 0.15);\n",
              "      fill: #174EA6;\n",
              "    }\n",
              "\n",
              "    .colab-df-buttons div {\n",
              "      margin-bottom: 4px;\n",
              "    }\n",
              "\n",
              "    [theme=dark] .colab-df-convert {\n",
              "      background-color: #3B4455;\n",
              "      fill: #D2E3FC;\n",
              "    }\n",
              "\n",
              "    [theme=dark] .colab-df-convert:hover {\n",
              "      background-color: #434B5C;\n",
              "      box-shadow: 0px 1px 3px 1px rgba(0, 0, 0, 0.15);\n",
              "      filter: drop-shadow(0px 1px 2px rgba(0, 0, 0, 0.3));\n",
              "      fill: #FFFFFF;\n",
              "    }\n",
              "  </style>\n",
              "\n",
              "    <script>\n",
              "      const buttonEl =\n",
              "        document.querySelector('#df-ddb6cd21-a56e-48c6-8e62-2df5fe74baf8 button.colab-df-convert');\n",
              "      buttonEl.style.display =\n",
              "        google.colab.kernel.accessAllowed ? 'block' : 'none';\n",
              "\n",
              "      async function convertToInteractive(key) {\n",
              "        const element = document.querySelector('#df-ddb6cd21-a56e-48c6-8e62-2df5fe74baf8');\n",
              "        const dataTable =\n",
              "          await google.colab.kernel.invokeFunction('convertToInteractive',\n",
              "                                                    [key], {});\n",
              "        if (!dataTable) return;\n",
              "\n",
              "        const docLinkHtml = 'Like what you see? Visit the ' +\n",
              "          '<a target=\"_blank\" href=https://colab.research.google.com/notebooks/data_table.ipynb>data table notebook</a>'\n",
              "          + ' to learn more about interactive tables.';\n",
              "        element.innerHTML = '';\n",
              "        dataTable['output_type'] = 'display_data';\n",
              "        await google.colab.output.renderOutput(dataTable, element);\n",
              "        const docLink = document.createElement('div');\n",
              "        docLink.innerHTML = docLinkHtml;\n",
              "        element.appendChild(docLink);\n",
              "      }\n",
              "    </script>\n",
              "  </div>\n",
              "\n",
              "\n",
              "    <div id=\"df-ec055a81-f527-4a0f-bbd0-40502739499a\">\n",
              "      <button class=\"colab-df-quickchart\" onclick=\"quickchart('df-ec055a81-f527-4a0f-bbd0-40502739499a')\"\n",
              "                title=\"Suggest charts\"\n",
              "                style=\"display:none;\">\n",
              "\n",
              "<svg xmlns=\"http://www.w3.org/2000/svg\" height=\"24px\"viewBox=\"0 0 24 24\"\n",
              "     width=\"24px\">\n",
              "    <g>\n",
              "        <path d=\"M19 3H5c-1.1 0-2 .9-2 2v14c0 1.1.9 2 2 2h14c1.1 0 2-.9 2-2V5c0-1.1-.9-2-2-2zM9 17H7v-7h2v7zm4 0h-2V7h2v10zm4 0h-2v-4h2v4z\"/>\n",
              "    </g>\n",
              "</svg>\n",
              "      </button>\n",
              "\n",
              "<style>\n",
              "  .colab-df-quickchart {\n",
              "      --bg-color: #E8F0FE;\n",
              "      --fill-color: #1967D2;\n",
              "      --hover-bg-color: #E2EBFA;\n",
              "      --hover-fill-color: #174EA6;\n",
              "      --disabled-fill-color: #AAA;\n",
              "      --disabled-bg-color: #DDD;\n",
              "  }\n",
              "\n",
              "  [theme=dark] .colab-df-quickchart {\n",
              "      --bg-color: #3B4455;\n",
              "      --fill-color: #D2E3FC;\n",
              "      --hover-bg-color: #434B5C;\n",
              "      --hover-fill-color: #FFFFFF;\n",
              "      --disabled-bg-color: #3B4455;\n",
              "      --disabled-fill-color: #666;\n",
              "  }\n",
              "\n",
              "  .colab-df-quickchart {\n",
              "    background-color: var(--bg-color);\n",
              "    border: none;\n",
              "    border-radius: 50%;\n",
              "    cursor: pointer;\n",
              "    display: none;\n",
              "    fill: var(--fill-color);\n",
              "    height: 32px;\n",
              "    padding: 0;\n",
              "    width: 32px;\n",
              "  }\n",
              "\n",
              "  .colab-df-quickchart:hover {\n",
              "    background-color: var(--hover-bg-color);\n",
              "    box-shadow: 0 1px 2px rgba(60, 64, 67, 0.3), 0 1px 3px 1px rgba(60, 64, 67, 0.15);\n",
              "    fill: var(--button-hover-fill-color);\n",
              "  }\n",
              "\n",
              "  .colab-df-quickchart-complete:disabled,\n",
              "  .colab-df-quickchart-complete:disabled:hover {\n",
              "    background-color: var(--disabled-bg-color);\n",
              "    fill: var(--disabled-fill-color);\n",
              "    box-shadow: none;\n",
              "  }\n",
              "\n",
              "  .colab-df-spinner {\n",
              "    border: 2px solid var(--fill-color);\n",
              "    border-color: transparent;\n",
              "    border-bottom-color: var(--fill-color);\n",
              "    animation:\n",
              "      spin 1s steps(1) infinite;\n",
              "  }\n",
              "\n",
              "  @keyframes spin {\n",
              "    0% {\n",
              "      border-color: transparent;\n",
              "      border-bottom-color: var(--fill-color);\n",
              "      border-left-color: var(--fill-color);\n",
              "    }\n",
              "    20% {\n",
              "      border-color: transparent;\n",
              "      border-left-color: var(--fill-color);\n",
              "      border-top-color: var(--fill-color);\n",
              "    }\n",
              "    30% {\n",
              "      border-color: transparent;\n",
              "      border-left-color: var(--fill-color);\n",
              "      border-top-color: var(--fill-color);\n",
              "      border-right-color: var(--fill-color);\n",
              "    }\n",
              "    40% {\n",
              "      border-color: transparent;\n",
              "      border-right-color: var(--fill-color);\n",
              "      border-top-color: var(--fill-color);\n",
              "    }\n",
              "    60% {\n",
              "      border-color: transparent;\n",
              "      border-right-color: var(--fill-color);\n",
              "    }\n",
              "    80% {\n",
              "      border-color: transparent;\n",
              "      border-right-color: var(--fill-color);\n",
              "      border-bottom-color: var(--fill-color);\n",
              "    }\n",
              "    90% {\n",
              "      border-color: transparent;\n",
              "      border-bottom-color: var(--fill-color);\n",
              "    }\n",
              "  }\n",
              "</style>\n",
              "\n",
              "      <script>\n",
              "        async function quickchart(key) {\n",
              "          const quickchartButtonEl =\n",
              "            document.querySelector('#' + key + ' button');\n",
              "          quickchartButtonEl.disabled = true;  // To prevent multiple clicks.\n",
              "          quickchartButtonEl.classList.add('colab-df-spinner');\n",
              "          try {\n",
              "            const charts = await google.colab.kernel.invokeFunction(\n",
              "                'suggestCharts', [key], {});\n",
              "          } catch (error) {\n",
              "            console.error('Error during call to suggestCharts:', error);\n",
              "          }\n",
              "          quickchartButtonEl.classList.remove('colab-df-spinner');\n",
              "          quickchartButtonEl.classList.add('colab-df-quickchart-complete');\n",
              "        }\n",
              "        (() => {\n",
              "          let quickchartButtonEl =\n",
              "            document.querySelector('#df-ec055a81-f527-4a0f-bbd0-40502739499a button');\n",
              "          quickchartButtonEl.style.display =\n",
              "            google.colab.kernel.accessAllowed ? 'block' : 'none';\n",
              "        })();\n",
              "      </script>\n",
              "    </div>\n",
              "\n",
              "    </div>\n",
              "  </div>\n"
            ],
            "application/vnd.google.colaboratory.intrinsic+json": {
              "type": "dataframe",
              "variable_name": "data",
              "summary": "{\n  \"name\": \"data\",\n  \"rows\": 400,\n  \"fields\": [\n    {\n      \"column\": \"User ID\",\n      \"properties\": {\n        \"dtype\": \"number\",\n        \"std\": 71658,\n        \"min\": 15566689,\n        \"max\": 15815236,\n        \"num_unique_values\": 400,\n        \"samples\": [\n          15697424,\n          15609669,\n          15776733\n        ],\n        \"semantic_type\": \"\",\n        \"description\": \"\"\n      }\n    },\n    {\n      \"column\": \"Gender\",\n      \"properties\": {\n        \"dtype\": \"category\",\n        \"num_unique_values\": 2,\n        \"samples\": [\n          \"Female\",\n          \"Male\"\n        ],\n        \"semantic_type\": \"\",\n        \"description\": \"\"\n      }\n    },\n    {\n      \"column\": \"Age\",\n      \"properties\": {\n        \"dtype\": \"number\",\n        \"std\": 10,\n        \"min\": 18,\n        \"max\": 60,\n        \"num_unique_values\": 43,\n        \"samples\": [\n          50,\n          39\n        ],\n        \"semantic_type\": \"\",\n        \"description\": \"\"\n      }\n    },\n    {\n      \"column\": \"EstimatedSalary\",\n      \"properties\": {\n        \"dtype\": \"number\",\n        \"std\": 34096,\n        \"min\": 15000,\n        \"max\": 150000,\n        \"num_unique_values\": 117,\n        \"samples\": [\n          117000,\n          76000\n        ],\n        \"semantic_type\": \"\",\n        \"description\": \"\"\n      }\n    },\n    {\n      \"column\": \"Purchased\",\n      \"properties\": {\n        \"dtype\": \"number\",\n        \"std\": 0,\n        \"min\": 0,\n        \"max\": 1,\n        \"num_unique_values\": 2,\n        \"samples\": [\n          1,\n          0\n        ],\n        \"semantic_type\": \"\",\n        \"description\": \"\"\n      }\n    }\n  ]\n}"
            }
          },
          "metadata": {},
          "execution_count": 31
        }
      ]
    },
    {
      "cell_type": "markdown",
      "source": [
        " Extracting Features (X)"
      ],
      "metadata": {
        "id": "lqEfeZxq4aum"
      }
    },
    {
      "cell_type": "code",
      "source": [
        "X = data.iloc[:,2:4].values\n",
        "X.shape"
      ],
      "metadata": {
        "colab": {
          "base_uri": "https://localhost:8080/"
        },
        "id": "Lerdli1uBP1j",
        "outputId": "1a7020e8-e491-473a-83f3-71882dd269c4"
      },
      "execution_count": 32,
      "outputs": [
        {
          "output_type": "execute_result",
          "data": {
            "text/plain": [
              "(400, 2)"
            ]
          },
          "metadata": {},
          "execution_count": 32
        }
      ]
    },
    {
      "cell_type": "markdown",
      "source": [
        "Extracting Target Variable (y)"
      ],
      "metadata": {
        "id": "CrurDh6K4gsQ"
      }
    },
    {
      "cell_type": "code",
      "source": [
        "y = data.iloc[:,-1].values\n",
        "y.shape"
      ],
      "metadata": {
        "colab": {
          "base_uri": "https://localhost:8080/"
        },
        "id": "T1B1qD-aCN3D",
        "outputId": "644b781b-534d-4174-b0a3-b1535caa7056"
      },
      "execution_count": 33,
      "outputs": [
        {
          "output_type": "execute_result",
          "data": {
            "text/plain": [
              "(400,)"
            ]
          },
          "metadata": {},
          "execution_count": 33
        }
      ]
    },
    {
      "cell_type": "markdown",
      "source": [
        "Train-Test Split"
      ],
      "metadata": {
        "id": "mNKwxZzi4kXv"
      }
    },
    {
      "cell_type": "code",
      "source": [
        "from sklearn.model_selection import train_test_split\n",
        "X_train,X_test,y_train,y_test = train_test_split(X,y,test_size=0.20)"
      ],
      "metadata": {
        "id": "53bSzmtVCdLm"
      },
      "execution_count": 34,
      "outputs": []
    },
    {
      "cell_type": "code",
      "source": [
        "X_train.shape"
      ],
      "metadata": {
        "colab": {
          "base_uri": "https://localhost:8080/"
        },
        "id": "-ciJLkQsC5No",
        "outputId": "cfa76242-8943-483c-f130-a057f5dd331f"
      },
      "execution_count": 35,
      "outputs": [
        {
          "output_type": "execute_result",
          "data": {
            "text/plain": [
              "(320, 2)"
            ]
          },
          "metadata": {},
          "execution_count": 35
        }
      ]
    },
    {
      "cell_type": "code",
      "source": [
        "X_test.shape"
      ],
      "metadata": {
        "colab": {
          "base_uri": "https://localhost:8080/"
        },
        "id": "hArdApHBC7XJ",
        "outputId": "e94e384c-3c04-4b59-e311-002f9b570543"
      },
      "execution_count": 36,
      "outputs": [
        {
          "output_type": "execute_result",
          "data": {
            "text/plain": [
              "(80, 2)"
            ]
          },
          "metadata": {},
          "execution_count": 36
        }
      ]
    },
    {
      "cell_type": "markdown",
      "source": [
        "Feature Scaling"
      ],
      "metadata": {
        "id": "38gxgdKf4qC_"
      }
    },
    {
      "cell_type": "code",
      "source": [
        "from sklearn.preprocessing import StandardScaler\n",
        "scaler = StandardScaler()"
      ],
      "metadata": {
        "id": "iC5XvMylC9SU"
      },
      "execution_count": 37,
      "outputs": []
    },
    {
      "cell_type": "code",
      "source": [
        "X_train = scaler.fit_transform(X_train)\n",
        "X_train"
      ],
      "metadata": {
        "colab": {
          "base_uri": "https://localhost:8080/"
        },
        "id": "0XAkdd7HDrJV",
        "outputId": "062b7e08-7d8e-45d6-aaa8-23a43409e880"
      },
      "execution_count": 38,
      "outputs": [
        {
          "output_type": "execute_result",
          "data": {
            "text/plain": [
              "array([[ 0.52596687,  1.22313738],\n",
              "       [ 1.10236893, -0.95930584],\n",
              "       [ 0.23776585, -0.12653145],\n",
              "       [ 0.71810089, -0.70085862],\n",
              "       [ 1.00630192,  1.96976269],\n",
              "       [-1.68357433, -0.95930584],\n",
              "       [-0.72290424,  0.30421392],\n",
              "       [ 0.91023491, -1.27518578],\n",
              "       [ 1.00630192,  0.13191577],\n",
              "       [ 0.42989987,  0.10319941],\n",
              "       [ 1.96697201,  0.73495929],\n",
              "       [ 1.39056995,  2.31435899],\n",
              "       [-0.81897125,  0.39036299],\n",
              "       [-0.72290424,  0.56266114],\n",
              "       [-1.10717228, -1.50491665],\n",
              "       [-0.81897125,  0.16063213],\n",
              "       [-0.05043518,  2.14206084],\n",
              "       [-0.2425692 ,  0.53394478],\n",
              "       [ 1.10236893,  0.53394478],\n",
              "       [-1.01110527,  0.76367565],\n",
              "       [-0.62683723, -1.47620029],\n",
              "       [-1.20323929,  0.30421392],\n",
              "       [ 0.42989987,  0.01705034],\n",
              "       [-1.10717228, -0.9880222 ],\n",
              "       [-0.2425692 ,  1.10827195],\n",
              "       [-0.91503826,  0.50522843],\n",
              "       [-0.2425692 ,  0.0457667 ],\n",
              "       [-0.14650219, -0.49984411],\n",
              "       [-1.87570835, -0.49984411],\n",
              "       [-1.39537331,  0.36164664],\n",
              "       [ 0.8141679 , -1.18903671],\n",
              "       [ 0.8141679 ,  0.13191577],\n",
              "       [ 0.04563183, -0.24139689],\n",
              "       [ 1.48663696,  0.99340652],\n",
              "       [ 0.42989987, -0.44241139],\n",
              "       [ 0.23776585, -0.35626232],\n",
              "       [ 1.58270397,  0.99340652],\n",
              "       [-1.77964134, -1.24646942],\n",
              "       [ 1.58270397,  0.01705034],\n",
              "       [ 1.39056995,  1.2805701 ],\n",
              "       [ 0.42989987,  0.27549756],\n",
              "       [ 1.10236893, -0.12653145],\n",
              "       [-0.81897125, -0.24139689],\n",
              "       [-0.2425692 ,  0.16063213],\n",
              "       [ 1.77483799,  1.8261809 ],\n",
              "       [ 1.00630192, -1.16032035],\n",
              "       [-1.20323929, -1.36133485],\n",
              "       [-0.43470322,  2.28564263],\n",
              "       [ 1.00630192, -1.04545491],\n",
              "       [-0.2425692 ,  0.21806484],\n",
              "       [-1.01110527,  0.5913775 ],\n",
              "       [ 0.8141679 , -1.36133485],\n",
              "       [ 1.00630192,  2.05591177],\n",
              "       [-0.14650219,  1.59645004],\n",
              "       [-1.77964134, -1.27518578],\n",
              "       [ 1.00630192,  1.76874819],\n",
              "       [ 0.23776585, -0.27011324],\n",
              "       [-1.58750732,  0.53394478],\n",
              "       [ 0.91023491, -0.58599318],\n",
              "       [ 1.29450295,  1.85489726],\n",
              "       [-0.53077022, -1.47620029],\n",
              "       [-0.72290424, -1.50491665],\n",
              "       [-0.81897125, -0.75829133],\n",
              "       [-1.01110527, -0.35626232],\n",
              "       [-1.68357433, -1.3326185 ],\n",
              "       [-1.2993063 ,  0.41907935],\n",
              "       [-0.14650219, -0.55727683],\n",
              "       [-0.14650219,  2.14206084],\n",
              "       [-1.49144031, -0.18396417],\n",
              "       [-0.72290424, -0.21268053],\n",
              "       [ 0.71810089,  1.76874819],\n",
              "       [ 2.06303902, -1.16032035],\n",
              "       [-1.87570835,  0.36164664],\n",
              "       [ 0.23776585,  1.07955559],\n",
              "       [-0.62683723, -1.01673856],\n",
              "       [-0.33863621, -1.27518578],\n",
              "       [-0.72290424, -1.56234936],\n",
              "       [-1.39537331, -1.18903671],\n",
              "       [ 0.33383286, -0.49984411],\n",
              "       [-0.05043518, -0.47112775],\n",
              "       [-0.72290424, -0.58599318],\n",
              "       [ 0.33383286, -0.27011324],\n",
              "       [ 0.23776585,  0.0457667 ],\n",
              "       [ 2.06303902,  0.18934849],\n",
              "       [-1.2993063 , -1.3326185 ],\n",
              "       [ 0.8141679 , -0.81572405],\n",
              "       [-0.2425692 , -0.90187312],\n",
              "       [-0.72290424,  0.50522843],\n",
              "       [-0.2425692 , -0.2988296 ],\n",
              "       [ 2.15910603,  1.10827195],\n",
              "       [ 0.8141679 ,  0.53394478],\n",
              "       [ 0.91023491, -1.13160399],\n",
              "       [ 0.42989987,  0.16063213],\n",
              "       [ 0.91023491, -0.55727683],\n",
              "       [-1.01110527, -0.32754596],\n",
              "       [ 0.62203388, -0.87315677],\n",
              "       [-1.10717228,  0.07448305],\n",
              "       [-1.01110527, -1.41876757],\n",
              "       [-1.10717228,  0.30421392],\n",
              "       [ 0.14169884,  0.21806484],\n",
              "       [-1.58750732, -1.533633  ],\n",
              "       [-0.53077022,  1.45286825],\n",
              "       [ 1.10236893, -1.18903671],\n",
              "       [ 1.77483799, -0.27011324],\n",
              "       [ 0.14169884,  0.76367565],\n",
              "       [ 0.42989987,  0.5913775 ],\n",
              "       [ 1.870905  ,  0.13191577],\n",
              "       [ 0.91023491, -1.3326185 ],\n",
              "       [ 1.96697201, -1.3326185 ],\n",
              "       [ 1.00630192,  0.76367565],\n",
              "       [ 0.52596687,  1.71131547],\n",
              "       [-0.72290424,  1.07955559],\n",
              "       [-1.39537331, -0.0978151 ],\n",
              "       [ 0.04563183, -0.55727683],\n",
              "       [-0.91503826, -0.2988296 ],\n",
              "       [ 0.52596687,  1.8261809 ],\n",
              "       [-1.49144031, -1.47620029],\n",
              "       [-1.10717228, -1.56234936],\n",
              "       [ 1.870905  ,  1.51030096],\n",
              "       [ 0.14169884,  1.85489726],\n",
              "       [ 1.67877098, -0.87315677],\n",
              "       [-1.2993063 , -0.41369503],\n",
              "       [ 1.48663696, -1.01673856],\n",
              "       [-0.2425692 , -1.27518578],\n",
              "       [-1.10717228, -0.49984411],\n",
              "       [ 0.04563183,  1.22313738],\n",
              "       [ 1.19843594,  0.53394478],\n",
              "       [ 0.8141679 , -1.07417127],\n",
              "       [-0.2425692 ,  0.10319941],\n",
              "       [-0.33863621, -0.75829133],\n",
              "       [-1.10717228,  1.39543553],\n",
              "       [ 1.67877098,  1.74003183],\n",
              "       [-0.43470322, -0.52856047],\n",
              "       [-1.01110527, -1.50491665],\n",
              "       [ 1.10236893,  0.56266114],\n",
              "       [ 0.33383286, -1.13160399],\n",
              "       [-1.49144031, -0.41369503],\n",
              "       [ 0.33383286, -0.2988296 ],\n",
              "       [ 1.48663696,  2.11334448],\n",
              "       [ 0.42989987, -0.12653145],\n",
              "       [ 0.23776585, -0.35626232],\n",
              "       [-1.01110527,  0.41907935],\n",
              "       [-1.10717228, -0.75829133],\n",
              "       [-0.14650219,  1.39543553],\n",
              "       [-1.87570835, -0.72957497],\n",
              "       [ 1.48663696,  0.07448305],\n",
              "       [ 0.71810089, -1.36133485],\n",
              "       [ 0.8141679 , -1.3326185 ],\n",
              "       [-0.2425692 , -0.24139689],\n",
              "       [ 0.71810089, -1.07417127],\n",
              "       [ 2.06303902, -0.78700769],\n",
              "       [-0.72290424,  0.27549756],\n",
              "       [ 0.04563183, -0.24139689],\n",
              "       [-1.20323929, -1.04545491],\n",
              "       [-0.05043518,  0.0457667 ],\n",
              "       [-0.91503826, -0.41369503],\n",
              "       [-0.43470322, -1.18903671],\n",
              "       [ 2.06303902,  2.11334448],\n",
              "       [-0.91503826, -1.07417127],\n",
              "       [-0.05043518,  0.21806484],\n",
              "       [-1.20323929,  0.27549756],\n",
              "       [-0.81897125, -0.6434259 ],\n",
              "       [-1.68357433,  0.36164664],\n",
              "       [-1.68357433, -0.58599318],\n",
              "       [-1.10717228, -1.07417127],\n",
              "       [-0.2425692 , -0.55727683],\n",
              "       [-0.43470322, -0.81572405],\n",
              "       [ 0.14169884,  0.0457667 ],\n",
              "       [-0.2425692 , -0.47112775],\n",
              "       [ 0.33383286,  0.27549756],\n",
              "       [ 0.33383286, -0.18396417],\n",
              "       [ 2.15910603, -1.01673856],\n",
              "       [-0.91503826,  0.41907935],\n",
              "       [-0.33863621,  0.07448305],\n",
              "       [ 0.04563183,  0.0457667 ],\n",
              "       [ 0.42989987, -0.47112775],\n",
              "       [ 0.14169884,  1.85489726],\n",
              "       [ 0.62203388,  1.99847905],\n",
              "       [-0.62683723,  0.0457667 ],\n",
              "       [ 1.39056995,  1.96976269],\n",
              "       [-0.2425692 , -0.27011324],\n",
              "       [-0.14650219, -0.18396417],\n",
              "       [-0.05043518,  0.16063213],\n",
              "       [-0.91503826,  0.27549756],\n",
              "       [ 1.00630192,  1.42415189],\n",
              "       [-0.2425692 ,  0.79239201],\n",
              "       [-0.2425692 ,  0.16063213],\n",
              "       [-0.53077022,  1.36671917],\n",
              "       [-0.2425692 ,  0.07448305],\n",
              "       [-1.10717228,  0.33293028],\n",
              "       [ 0.23776585, -0.24139689],\n",
              "       [ 0.42989987,  2.28564263],\n",
              "       [ 1.29450295,  2.19949356],\n",
              "       [-1.01110527,  1.94104634],\n",
              "       [ 0.42989987, -0.44241139],\n",
              "       [ 1.96697201,  2.14206084],\n",
              "       [ 1.00630192, -0.9880222 ],\n",
              "       [-0.33863621,  1.22313738],\n",
              "       [-1.2993063 , -0.32754596],\n",
              "       [ 0.91023491, -1.01673856],\n",
              "       [-0.81897125,  0.30421392],\n",
              "       [-0.53077022,  1.88361362],\n",
              "       [ 0.14169884,  0.10319941],\n",
              "       [-1.10717228, -1.56234936],\n",
              "       [ 0.04563183, -0.55727683],\n",
              "       [-1.77964134,  0.44779571],\n",
              "       [-1.10717228,  0.41907935],\n",
              "       [ 2.15910603, -0.78700769],\n",
              "       [-1.01110527,  0.56266114],\n",
              "       [-1.77964134, -1.39005121],\n",
              "       [-0.62683723, -0.04038238],\n",
              "       [-0.2425692 , -0.41369503],\n",
              "       [ 0.91023491,  1.02212287],\n",
              "       [-0.05043518,  0.67752658],\n",
              "       [ 0.04563183,  0.30421392],\n",
              "       [ 0.91023491,  2.14206084],\n",
              "       [-0.2425692 , -0.12653145],\n",
              "       [ 1.00630192, -1.13160399],\n",
              "       [ 1.10236893, -1.18903671],\n",
              "       [ 0.91023491, -0.6434259 ],\n",
              "       [-1.2993063 , -0.41369503],\n",
              "       [-1.39537331, -1.41876757],\n",
              "       [-1.20323929,  0.5913775 ],\n",
              "       [-0.14650219,  0.16063213],\n",
              "       [-0.2425692 , -1.21775306],\n",
              "       [-0.62683723,  0.56266114],\n",
              "       [-0.05043518, -0.49984411],\n",
              "       [ 1.39056995, -1.39005121],\n",
              "       [ 0.33383286,  0.50522843],\n",
              "       [-0.91503826, -0.93058948],\n",
              "       [ 0.42989987,  1.10827195],\n",
              "       [-0.2425692 , -1.3326185 ],\n",
              "       [-0.2425692 ,  2.22820992],\n",
              "       [-1.87570835,  0.47651207],\n",
              "       [-0.2425692 , -0.72957497],\n",
              "       [-0.43470322, -1.10288763],\n",
              "       [ 0.42989987,  0.30421392],\n",
              "       [-0.81897125, -0.75829133],\n",
              "       [ 1.19843594, -0.72957497],\n",
              "       [ 0.8141679 ,  0.36164664],\n",
              "       [-0.62683723,  1.39543553],\n",
              "       [ 2.15910603,  0.39036299],\n",
              "       [-1.68357433,  0.47651207],\n",
              "       [-0.43470322,  1.25185374],\n",
              "       [-1.39537331, -0.18396417],\n",
              "       [-0.05043518,  1.94104634],\n",
              "       [-0.2425692 , -0.35626232],\n",
              "       [-1.77964134,  0.01705034],\n",
              "       [ 0.23776585, -0.2988296 ],\n",
              "       [ 0.04563183, -0.52856047],\n",
              "       [ 0.91023491, -0.75829133],\n",
              "       [-0.05043518, -1.04545491],\n",
              "       [ 1.00630192,  1.85489726],\n",
              "       [-0.62683723, -1.56234936],\n",
              "       [ 2.06303902,  1.74003183],\n",
              "       [ 1.96697201, -0.6434259 ],\n",
              "       [-0.2425692 ,  0.62009386],\n",
              "       [-0.81897125,  0.39036299],\n",
              "       [ 0.42989987,  0.99340652],\n",
              "       [-1.68357433,  0.13191577],\n",
              "       [ 0.42989987, -0.15524781],\n",
              "       [ 0.91023491, -0.52856047],\n",
              "       [-0.05043518, -0.21268053],\n",
              "       [-0.2425692 ,  0.07448305],\n",
              "       [-0.33863621,  1.30928646],\n",
              "       [ 0.14169884,  0.0457667 ],\n",
              "       [-0.72290424,  1.88361362],\n",
              "       [ 0.23776585, -0.6434259 ],\n",
              "       [-0.05043518,  0.30421392],\n",
              "       [-0.53077022, -1.47620029],\n",
              "       [ 0.33383286,  0.30421392],\n",
              "       [-0.53077022,  0.87854108],\n",
              "       [-1.10717228, -1.13160399],\n",
              "       [-0.53077022,  0.47651207],\n",
              "       [-0.81897125,  2.25692628],\n",
              "       [-0.2425692 , -0.6434259 ],\n",
              "       [-0.2425692 , -0.32754596],\n",
              "       [-0.14650219, -0.44241139],\n",
              "       [-1.20323929,  0.50522843],\n",
              "       [ 1.870905  , -1.04545491],\n",
              "       [-0.05043518,  0.27549756],\n",
              "       [-1.2993063 , -1.21775306],\n",
              "       [ 1.19843594, -1.41876757],\n",
              "       [-0.53077022,  2.31435899],\n",
              "       [-0.91503826, -0.2988296 ],\n",
              "       [-0.62683723, -0.32754596],\n",
              "       [ 1.58270397, -1.24646942],\n",
              "       [ 0.71810089, -1.24646942],\n",
              "       [ 2.15910603, -0.78700769],\n",
              "       [ 0.23776585,  0.16063213],\n",
              "       [ 0.91023491,  1.07955559],\n",
              "       [ 0.04563183, -0.2988296 ],\n",
              "       [-0.2425692 ,  0.27549756],\n",
              "       [-0.2425692 , -0.55727683],\n",
              "       [-1.2993063 , -1.07417127],\n",
              "       [-0.05043518,  0.13191577],\n",
              "       [ 1.67877098,  1.59645004],\n",
              "       [-0.05043518,  0.30421392],\n",
              "       [ 0.33383286, -0.49984411],\n",
              "       [ 1.870905  , -1.24646942],\n",
              "       [ 0.23776585,  0.07448305],\n",
              "       [ 1.48663696,  0.36164664],\n",
              "       [ 0.04563183, -0.12653145],\n",
              "       [ 0.91023491, -1.41876757],\n",
              "       [-0.05043518, -0.41369503],\n",
              "       [ 0.71810089, -1.36133485],\n",
              "       [-1.68357433,  0.36164664],\n",
              "       [ 0.04563183, -0.41369503],\n",
              "       [ 1.39056995, -0.90187312],\n",
              "       [ 0.71810089,  0.27549756],\n",
              "       [ 1.39056995,  0.5913775 ],\n",
              "       [-1.01110527,  0.53394478],\n",
              "       [-1.49144031, -1.21775306],\n",
              "       [ 1.00630192,  0.5913775 ],\n",
              "       [ 0.23776585, -0.35626232],\n",
              "       [ 0.23776585,  0.2467812 ],\n",
              "       [ 0.14169884, -0.2988296 ],\n",
              "       [ 0.04563183,  1.25185374],\n",
              "       [ 0.14169884, -0.24139689],\n",
              "       [-1.01110527, -0.44241139]])"
            ]
          },
          "metadata": {},
          "execution_count": 38
        }
      ]
    },
    {
      "cell_type": "code",
      "source": [
        "X_test = scaler.transform(X_test)\n",
        "X_test"
      ],
      "metadata": {
        "colab": {
          "base_uri": "https://localhost:8080/"
        },
        "id": "MDNTIlOaDyFl",
        "outputId": "aa6742a3-4105-4609-b532-1257ed5002b5"
      },
      "execution_count": 39,
      "outputs": [
        {
          "output_type": "execute_result",
          "data": {
            "text/plain": [
              "array([[ 0.33383286, -0.52856047],\n",
              "       [-0.53077022,  1.36671917],\n",
              "       [-0.62683723,  0.13191577],\n",
              "       [ 0.91023491,  1.25185374],\n",
              "       [ 0.33383286,  0.07448305],\n",
              "       [ 1.10236893,  2.05591177],\n",
              "       [ 0.14169884,  0.27549756],\n",
              "       [ 0.23776585,  0.16063213],\n",
              "       [-1.01110527, -1.10288763],\n",
              "       [-1.10717228,  0.47651207],\n",
              "       [ 1.77483799,  0.99340652],\n",
              "       [ 0.33383286,  0.07448305],\n",
              "       [ 0.8141679 ,  0.76367565],\n",
              "       [-1.2993063 ,  0.56266114],\n",
              "       [-0.33863621, -0.75829133],\n",
              "       [ 0.8141679 ,  1.36671917],\n",
              "       [-0.2425692 , -1.41876757],\n",
              "       [ 0.8141679 , -0.2988296 ],\n",
              "       [ 2.06303902,  0.53394478],\n",
              "       [-0.81897125, -1.18903671],\n",
              "       [ 1.96697201,  0.90725744],\n",
              "       [-0.14650219, -1.04545491],\n",
              "       [-0.05043518,  0.07448305],\n",
              "       [ 0.33383286, -0.70085862],\n",
              "       [ 0.14169884,  1.05083923],\n",
              "       [-1.01110527, -0.32754596],\n",
              "       [ 2.06303902,  0.39036299],\n",
              "       [-0.05043518,  0.01705034],\n",
              "       [-1.58750732, -0.04038238],\n",
              "       [ 0.33383286,  0.07448305],\n",
              "       [ 1.29450295, -1.3326185 ],\n",
              "       [-0.62683723, -0.0978151 ],\n",
              "       [-0.14650219, -0.27011324],\n",
              "       [-0.43470322, -0.75829133],\n",
              "       [ 0.14169884,  1.51030096],\n",
              "       [ 1.10236893,  0.47651207],\n",
              "       [-1.87570835, -0.04038238],\n",
              "       [-1.58750732,  0.07448305],\n",
              "       [ 0.14169884,  0.16063213],\n",
              "       [-0.91503826,  0.44779571],\n",
              "       [ 1.00630192, -0.81572405],\n",
              "       [-0.91503826,  0.56266114],\n",
              "       [-0.91503826, -0.72957497],\n",
              "       [-1.2993063 , -1.44748393],\n",
              "       [-0.2425692 , -0.87315677],\n",
              "       [-0.91503826,  1.53901732],\n",
              "       [ 1.10236893,  0.13191577],\n",
              "       [-0.14650219,  1.6251664 ],\n",
              "       [ 0.23776585,  2.08462813],\n",
              "       [-1.10717228, -1.533633  ],\n",
              "       [-0.43470322, -0.27011324],\n",
              "       [ 0.14169884, -0.78700769],\n",
              "       [-0.72290424,  1.33800281],\n",
              "       [-0.05043518, -0.35626232],\n",
              "       [ 0.14169884, -0.78700769],\n",
              "       [ 1.870905  , -0.27011324],\n",
              "       [ 2.15910603, -0.67214226],\n",
              "       [-1.77964134, -1.44748393],\n",
              "       [ 0.42989987, -0.12653145],\n",
              "       [ 1.58270397,  1.10827195],\n",
              "       [ 1.19843594, -0.95930584],\n",
              "       [-1.77964134,  0.18934849],\n",
              "       [ 0.42989987,  0.30421392],\n",
              "       [ 2.15910603,  0.9359738 ],\n",
              "       [-1.49144031,  0.33293028],\n",
              "       [-0.05043518,  2.19949356],\n",
              "       [-0.05043518,  0.2467812 ],\n",
              "       [-1.10717228,  0.30421392],\n",
              "       [ 0.04563183,  0.0457667 ],\n",
              "       [ 1.96697201, -0.90187312],\n",
              "       [ 1.10236893, -0.87315677],\n",
              "       [ 0.33383286,  0.07448305],\n",
              "       [-0.43470322, -0.01166602],\n",
              "       [ 1.00630192, -1.04545491],\n",
              "       [ 0.8141679 ,  0.27549756],\n",
              "       [-0.14650219,  0.84982472],\n",
              "       [-1.39537331, -0.61470954],\n",
              "       [-0.62683723,  0.18934849],\n",
              "       [ 0.33383286,  0.0457667 ],\n",
              "       [-0.2425692 , -1.36133485]])"
            ]
          },
          "metadata": {},
          "execution_count": 39
        }
      ]
    },
    {
      "cell_type": "markdown",
      "source": [
        "Estimate  k for KNN"
      ],
      "metadata": {
        "id": "0aFrcGFF42ex"
      }
    },
    {
      "cell_type": "code",
      "source": [
        "# 1ST METHOD\n",
        "np.sqrt(X_train.shape[0])"
      ],
      "metadata": {
        "colab": {
          "base_uri": "https://localhost:8080/"
        },
        "id": "zsEZTrGEEH40",
        "outputId": "c264dc13-f491-40be-c393-32b97b3a32ec"
      },
      "execution_count": 40,
      "outputs": [
        {
          "output_type": "execute_result",
          "data": {
            "text/plain": [
              "np.float64(17.88854381999832)"
            ]
          },
          "metadata": {},
          "execution_count": 40
        }
      ]
    },
    {
      "cell_type": "code",
      "source": [
        "k = 17"
      ],
      "metadata": {
        "id": "ARSX9nm2Ea4L"
      },
      "execution_count": 41,
      "outputs": []
    },
    {
      "cell_type": "markdown",
      "source": [
        "Create and Train the KNN Model"
      ],
      "metadata": {
        "id": "kHtu8X264_gI"
      }
    },
    {
      "cell_type": "code",
      "source": [
        "from sklearn.neighbors import KNeighborsClassifier\n",
        "knn = KNeighborsClassifier(n_neighbors=k)\n"
      ],
      "metadata": {
        "id": "SKI_sidIE0gJ"
      },
      "execution_count": 42,
      "outputs": []
    },
    {
      "cell_type": "code",
      "source": [
        "# Train out model\n",
        "knn.fit(X_train,y_train)"
      ],
      "metadata": {
        "colab": {
          "base_uri": "https://localhost:8080/",
          "height": 80
        },
        "id": "wqWWmQb0FF-G",
        "outputId": "cbcecbeb-5469-4d1c-bd2f-f77fa151d649"
      },
      "execution_count": 43,
      "outputs": [
        {
          "output_type": "execute_result",
          "data": {
            "text/plain": [
              "KNeighborsClassifier(n_neighbors=17)"
            ],
            "text/html": [
              "<style>#sk-container-id-2 {\n",
              "  /* Definition of color scheme common for light and dark mode */\n",
              "  --sklearn-color-text: #000;\n",
              "  --sklearn-color-text-muted: #666;\n",
              "  --sklearn-color-line: gray;\n",
              "  /* Definition of color scheme for unfitted estimators */\n",
              "  --sklearn-color-unfitted-level-0: #fff5e6;\n",
              "  --sklearn-color-unfitted-level-1: #f6e4d2;\n",
              "  --sklearn-color-unfitted-level-2: #ffe0b3;\n",
              "  --sklearn-color-unfitted-level-3: chocolate;\n",
              "  /* Definition of color scheme for fitted estimators */\n",
              "  --sklearn-color-fitted-level-0: #f0f8ff;\n",
              "  --sklearn-color-fitted-level-1: #d4ebff;\n",
              "  --sklearn-color-fitted-level-2: #b3dbfd;\n",
              "  --sklearn-color-fitted-level-3: cornflowerblue;\n",
              "\n",
              "  /* Specific color for light theme */\n",
              "  --sklearn-color-text-on-default-background: var(--sg-text-color, var(--theme-code-foreground, var(--jp-content-font-color1, black)));\n",
              "  --sklearn-color-background: var(--sg-background-color, var(--theme-background, var(--jp-layout-color0, white)));\n",
              "  --sklearn-color-border-box: var(--sg-text-color, var(--theme-code-foreground, var(--jp-content-font-color1, black)));\n",
              "  --sklearn-color-icon: #696969;\n",
              "\n",
              "  @media (prefers-color-scheme: dark) {\n",
              "    /* Redefinition of color scheme for dark theme */\n",
              "    --sklearn-color-text-on-default-background: var(--sg-text-color, var(--theme-code-foreground, var(--jp-content-font-color1, white)));\n",
              "    --sklearn-color-background: var(--sg-background-color, var(--theme-background, var(--jp-layout-color0, #111)));\n",
              "    --sklearn-color-border-box: var(--sg-text-color, var(--theme-code-foreground, var(--jp-content-font-color1, white)));\n",
              "    --sklearn-color-icon: #878787;\n",
              "  }\n",
              "}\n",
              "\n",
              "#sk-container-id-2 {\n",
              "  color: var(--sklearn-color-text);\n",
              "}\n",
              "\n",
              "#sk-container-id-2 pre {\n",
              "  padding: 0;\n",
              "}\n",
              "\n",
              "#sk-container-id-2 input.sk-hidden--visually {\n",
              "  border: 0;\n",
              "  clip: rect(1px 1px 1px 1px);\n",
              "  clip: rect(1px, 1px, 1px, 1px);\n",
              "  height: 1px;\n",
              "  margin: -1px;\n",
              "  overflow: hidden;\n",
              "  padding: 0;\n",
              "  position: absolute;\n",
              "  width: 1px;\n",
              "}\n",
              "\n",
              "#sk-container-id-2 div.sk-dashed-wrapped {\n",
              "  border: 1px dashed var(--sklearn-color-line);\n",
              "  margin: 0 0.4em 0.5em 0.4em;\n",
              "  box-sizing: border-box;\n",
              "  padding-bottom: 0.4em;\n",
              "  background-color: var(--sklearn-color-background);\n",
              "}\n",
              "\n",
              "#sk-container-id-2 div.sk-container {\n",
              "  /* jupyter's `normalize.less` sets `[hidden] { display: none; }`\n",
              "     but bootstrap.min.css set `[hidden] { display: none !important; }`\n",
              "     so we also need the `!important` here to be able to override the\n",
              "     default hidden behavior on the sphinx rendered scikit-learn.org.\n",
              "     See: https://github.com/scikit-learn/scikit-learn/issues/21755 */\n",
              "  display: inline-block !important;\n",
              "  position: relative;\n",
              "}\n",
              "\n",
              "#sk-container-id-2 div.sk-text-repr-fallback {\n",
              "  display: none;\n",
              "}\n",
              "\n",
              "div.sk-parallel-item,\n",
              "div.sk-serial,\n",
              "div.sk-item {\n",
              "  /* draw centered vertical line to link estimators */\n",
              "  background-image: linear-gradient(var(--sklearn-color-text-on-default-background), var(--sklearn-color-text-on-default-background));\n",
              "  background-size: 2px 100%;\n",
              "  background-repeat: no-repeat;\n",
              "  background-position: center center;\n",
              "}\n",
              "\n",
              "/* Parallel-specific style estimator block */\n",
              "\n",
              "#sk-container-id-2 div.sk-parallel-item::after {\n",
              "  content: \"\";\n",
              "  width: 100%;\n",
              "  border-bottom: 2px solid var(--sklearn-color-text-on-default-background);\n",
              "  flex-grow: 1;\n",
              "}\n",
              "\n",
              "#sk-container-id-2 div.sk-parallel {\n",
              "  display: flex;\n",
              "  align-items: stretch;\n",
              "  justify-content: center;\n",
              "  background-color: var(--sklearn-color-background);\n",
              "  position: relative;\n",
              "}\n",
              "\n",
              "#sk-container-id-2 div.sk-parallel-item {\n",
              "  display: flex;\n",
              "  flex-direction: column;\n",
              "}\n",
              "\n",
              "#sk-container-id-2 div.sk-parallel-item:first-child::after {\n",
              "  align-self: flex-end;\n",
              "  width: 50%;\n",
              "}\n",
              "\n",
              "#sk-container-id-2 div.sk-parallel-item:last-child::after {\n",
              "  align-self: flex-start;\n",
              "  width: 50%;\n",
              "}\n",
              "\n",
              "#sk-container-id-2 div.sk-parallel-item:only-child::after {\n",
              "  width: 0;\n",
              "}\n",
              "\n",
              "/* Serial-specific style estimator block */\n",
              "\n",
              "#sk-container-id-2 div.sk-serial {\n",
              "  display: flex;\n",
              "  flex-direction: column;\n",
              "  align-items: center;\n",
              "  background-color: var(--sklearn-color-background);\n",
              "  padding-right: 1em;\n",
              "  padding-left: 1em;\n",
              "}\n",
              "\n",
              "\n",
              "/* Toggleable style: style used for estimator/Pipeline/ColumnTransformer box that is\n",
              "clickable and can be expanded/collapsed.\n",
              "- Pipeline and ColumnTransformer use this feature and define the default style\n",
              "- Estimators will overwrite some part of the style using the `sk-estimator` class\n",
              "*/\n",
              "\n",
              "/* Pipeline and ColumnTransformer style (default) */\n",
              "\n",
              "#sk-container-id-2 div.sk-toggleable {\n",
              "  /* Default theme specific background. It is overwritten whether we have a\n",
              "  specific estimator or a Pipeline/ColumnTransformer */\n",
              "  background-color: var(--sklearn-color-background);\n",
              "}\n",
              "\n",
              "/* Toggleable label */\n",
              "#sk-container-id-2 label.sk-toggleable__label {\n",
              "  cursor: pointer;\n",
              "  display: flex;\n",
              "  width: 100%;\n",
              "  margin-bottom: 0;\n",
              "  padding: 0.5em;\n",
              "  box-sizing: border-box;\n",
              "  text-align: center;\n",
              "  align-items: start;\n",
              "  justify-content: space-between;\n",
              "  gap: 0.5em;\n",
              "}\n",
              "\n",
              "#sk-container-id-2 label.sk-toggleable__label .caption {\n",
              "  font-size: 0.6rem;\n",
              "  font-weight: lighter;\n",
              "  color: var(--sklearn-color-text-muted);\n",
              "}\n",
              "\n",
              "#sk-container-id-2 label.sk-toggleable__label-arrow:before {\n",
              "  /* Arrow on the left of the label */\n",
              "  content: \"▸\";\n",
              "  float: left;\n",
              "  margin-right: 0.25em;\n",
              "  color: var(--sklearn-color-icon);\n",
              "}\n",
              "\n",
              "#sk-container-id-2 label.sk-toggleable__label-arrow:hover:before {\n",
              "  color: var(--sklearn-color-text);\n",
              "}\n",
              "\n",
              "/* Toggleable content - dropdown */\n",
              "\n",
              "#sk-container-id-2 div.sk-toggleable__content {\n",
              "  max-height: 0;\n",
              "  max-width: 0;\n",
              "  overflow: hidden;\n",
              "  text-align: left;\n",
              "  /* unfitted */\n",
              "  background-color: var(--sklearn-color-unfitted-level-0);\n",
              "}\n",
              "\n",
              "#sk-container-id-2 div.sk-toggleable__content.fitted {\n",
              "  /* fitted */\n",
              "  background-color: var(--sklearn-color-fitted-level-0);\n",
              "}\n",
              "\n",
              "#sk-container-id-2 div.sk-toggleable__content pre {\n",
              "  margin: 0.2em;\n",
              "  border-radius: 0.25em;\n",
              "  color: var(--sklearn-color-text);\n",
              "  /* unfitted */\n",
              "  background-color: var(--sklearn-color-unfitted-level-0);\n",
              "}\n",
              "\n",
              "#sk-container-id-2 div.sk-toggleable__content.fitted pre {\n",
              "  /* unfitted */\n",
              "  background-color: var(--sklearn-color-fitted-level-0);\n",
              "}\n",
              "\n",
              "#sk-container-id-2 input.sk-toggleable__control:checked~div.sk-toggleable__content {\n",
              "  /* Expand drop-down */\n",
              "  max-height: 200px;\n",
              "  max-width: 100%;\n",
              "  overflow: auto;\n",
              "}\n",
              "\n",
              "#sk-container-id-2 input.sk-toggleable__control:checked~label.sk-toggleable__label-arrow:before {\n",
              "  content: \"▾\";\n",
              "}\n",
              "\n",
              "/* Pipeline/ColumnTransformer-specific style */\n",
              "\n",
              "#sk-container-id-2 div.sk-label input.sk-toggleable__control:checked~label.sk-toggleable__label {\n",
              "  color: var(--sklearn-color-text);\n",
              "  background-color: var(--sklearn-color-unfitted-level-2);\n",
              "}\n",
              "\n",
              "#sk-container-id-2 div.sk-label.fitted input.sk-toggleable__control:checked~label.sk-toggleable__label {\n",
              "  background-color: var(--sklearn-color-fitted-level-2);\n",
              "}\n",
              "\n",
              "/* Estimator-specific style */\n",
              "\n",
              "/* Colorize estimator box */\n",
              "#sk-container-id-2 div.sk-estimator input.sk-toggleable__control:checked~label.sk-toggleable__label {\n",
              "  /* unfitted */\n",
              "  background-color: var(--sklearn-color-unfitted-level-2);\n",
              "}\n",
              "\n",
              "#sk-container-id-2 div.sk-estimator.fitted input.sk-toggleable__control:checked~label.sk-toggleable__label {\n",
              "  /* fitted */\n",
              "  background-color: var(--sklearn-color-fitted-level-2);\n",
              "}\n",
              "\n",
              "#sk-container-id-2 div.sk-label label.sk-toggleable__label,\n",
              "#sk-container-id-2 div.sk-label label {\n",
              "  /* The background is the default theme color */\n",
              "  color: var(--sklearn-color-text-on-default-background);\n",
              "}\n",
              "\n",
              "/* On hover, darken the color of the background */\n",
              "#sk-container-id-2 div.sk-label:hover label.sk-toggleable__label {\n",
              "  color: var(--sklearn-color-text);\n",
              "  background-color: var(--sklearn-color-unfitted-level-2);\n",
              "}\n",
              "\n",
              "/* Label box, darken color on hover, fitted */\n",
              "#sk-container-id-2 div.sk-label.fitted:hover label.sk-toggleable__label.fitted {\n",
              "  color: var(--sklearn-color-text);\n",
              "  background-color: var(--sklearn-color-fitted-level-2);\n",
              "}\n",
              "\n",
              "/* Estimator label */\n",
              "\n",
              "#sk-container-id-2 div.sk-label label {\n",
              "  font-family: monospace;\n",
              "  font-weight: bold;\n",
              "  display: inline-block;\n",
              "  line-height: 1.2em;\n",
              "}\n",
              "\n",
              "#sk-container-id-2 div.sk-label-container {\n",
              "  text-align: center;\n",
              "}\n",
              "\n",
              "/* Estimator-specific */\n",
              "#sk-container-id-2 div.sk-estimator {\n",
              "  font-family: monospace;\n",
              "  border: 1px dotted var(--sklearn-color-border-box);\n",
              "  border-radius: 0.25em;\n",
              "  box-sizing: border-box;\n",
              "  margin-bottom: 0.5em;\n",
              "  /* unfitted */\n",
              "  background-color: var(--sklearn-color-unfitted-level-0);\n",
              "}\n",
              "\n",
              "#sk-container-id-2 div.sk-estimator.fitted {\n",
              "  /* fitted */\n",
              "  background-color: var(--sklearn-color-fitted-level-0);\n",
              "}\n",
              "\n",
              "/* on hover */\n",
              "#sk-container-id-2 div.sk-estimator:hover {\n",
              "  /* unfitted */\n",
              "  background-color: var(--sklearn-color-unfitted-level-2);\n",
              "}\n",
              "\n",
              "#sk-container-id-2 div.sk-estimator.fitted:hover {\n",
              "  /* fitted */\n",
              "  background-color: var(--sklearn-color-fitted-level-2);\n",
              "}\n",
              "\n",
              "/* Specification for estimator info (e.g. \"i\" and \"?\") */\n",
              "\n",
              "/* Common style for \"i\" and \"?\" */\n",
              "\n",
              ".sk-estimator-doc-link,\n",
              "a:link.sk-estimator-doc-link,\n",
              "a:visited.sk-estimator-doc-link {\n",
              "  float: right;\n",
              "  font-size: smaller;\n",
              "  line-height: 1em;\n",
              "  font-family: monospace;\n",
              "  background-color: var(--sklearn-color-background);\n",
              "  border-radius: 1em;\n",
              "  height: 1em;\n",
              "  width: 1em;\n",
              "  text-decoration: none !important;\n",
              "  margin-left: 0.5em;\n",
              "  text-align: center;\n",
              "  /* unfitted */\n",
              "  border: var(--sklearn-color-unfitted-level-1) 1pt solid;\n",
              "  color: var(--sklearn-color-unfitted-level-1);\n",
              "}\n",
              "\n",
              ".sk-estimator-doc-link.fitted,\n",
              "a:link.sk-estimator-doc-link.fitted,\n",
              "a:visited.sk-estimator-doc-link.fitted {\n",
              "  /* fitted */\n",
              "  border: var(--sklearn-color-fitted-level-1) 1pt solid;\n",
              "  color: var(--sklearn-color-fitted-level-1);\n",
              "}\n",
              "\n",
              "/* On hover */\n",
              "div.sk-estimator:hover .sk-estimator-doc-link:hover,\n",
              ".sk-estimator-doc-link:hover,\n",
              "div.sk-label-container:hover .sk-estimator-doc-link:hover,\n",
              ".sk-estimator-doc-link:hover {\n",
              "  /* unfitted */\n",
              "  background-color: var(--sklearn-color-unfitted-level-3);\n",
              "  color: var(--sklearn-color-background);\n",
              "  text-decoration: none;\n",
              "}\n",
              "\n",
              "div.sk-estimator.fitted:hover .sk-estimator-doc-link.fitted:hover,\n",
              ".sk-estimator-doc-link.fitted:hover,\n",
              "div.sk-label-container:hover .sk-estimator-doc-link.fitted:hover,\n",
              ".sk-estimator-doc-link.fitted:hover {\n",
              "  /* fitted */\n",
              "  background-color: var(--sklearn-color-fitted-level-3);\n",
              "  color: var(--sklearn-color-background);\n",
              "  text-decoration: none;\n",
              "}\n",
              "\n",
              "/* Span, style for the box shown on hovering the info icon */\n",
              ".sk-estimator-doc-link span {\n",
              "  display: none;\n",
              "  z-index: 9999;\n",
              "  position: relative;\n",
              "  font-weight: normal;\n",
              "  right: .2ex;\n",
              "  padding: .5ex;\n",
              "  margin: .5ex;\n",
              "  width: min-content;\n",
              "  min-width: 20ex;\n",
              "  max-width: 50ex;\n",
              "  color: var(--sklearn-color-text);\n",
              "  box-shadow: 2pt 2pt 4pt #999;\n",
              "  /* unfitted */\n",
              "  background: var(--sklearn-color-unfitted-level-0);\n",
              "  border: .5pt solid var(--sklearn-color-unfitted-level-3);\n",
              "}\n",
              "\n",
              ".sk-estimator-doc-link.fitted span {\n",
              "  /* fitted */\n",
              "  background: var(--sklearn-color-fitted-level-0);\n",
              "  border: var(--sklearn-color-fitted-level-3);\n",
              "}\n",
              "\n",
              ".sk-estimator-doc-link:hover span {\n",
              "  display: block;\n",
              "}\n",
              "\n",
              "/* \"?\"-specific style due to the `<a>` HTML tag */\n",
              "\n",
              "#sk-container-id-2 a.estimator_doc_link {\n",
              "  float: right;\n",
              "  font-size: 1rem;\n",
              "  line-height: 1em;\n",
              "  font-family: monospace;\n",
              "  background-color: var(--sklearn-color-background);\n",
              "  border-radius: 1rem;\n",
              "  height: 1rem;\n",
              "  width: 1rem;\n",
              "  text-decoration: none;\n",
              "  /* unfitted */\n",
              "  color: var(--sklearn-color-unfitted-level-1);\n",
              "  border: var(--sklearn-color-unfitted-level-1) 1pt solid;\n",
              "}\n",
              "\n",
              "#sk-container-id-2 a.estimator_doc_link.fitted {\n",
              "  /* fitted */\n",
              "  border: var(--sklearn-color-fitted-level-1) 1pt solid;\n",
              "  color: var(--sklearn-color-fitted-level-1);\n",
              "}\n",
              "\n",
              "/* On hover */\n",
              "#sk-container-id-2 a.estimator_doc_link:hover {\n",
              "  /* unfitted */\n",
              "  background-color: var(--sklearn-color-unfitted-level-3);\n",
              "  color: var(--sklearn-color-background);\n",
              "  text-decoration: none;\n",
              "}\n",
              "\n",
              "#sk-container-id-2 a.estimator_doc_link.fitted:hover {\n",
              "  /* fitted */\n",
              "  background-color: var(--sklearn-color-fitted-level-3);\n",
              "}\n",
              "</style><div id=\"sk-container-id-2\" class=\"sk-top-container\"><div class=\"sk-text-repr-fallback\"><pre>KNeighborsClassifier(n_neighbors=17)</pre><b>In a Jupyter environment, please rerun this cell to show the HTML representation or trust the notebook. <br />On GitHub, the HTML representation is unable to render, please try loading this page with nbviewer.org.</b></div><div class=\"sk-container\" hidden><div class=\"sk-item\"><div class=\"sk-estimator fitted sk-toggleable\"><input class=\"sk-toggleable__control sk-hidden--visually\" id=\"sk-estimator-id-2\" type=\"checkbox\" checked><label for=\"sk-estimator-id-2\" class=\"sk-toggleable__label fitted sk-toggleable__label-arrow\"><div><div>KNeighborsClassifier</div></div><div><a class=\"sk-estimator-doc-link fitted\" rel=\"noreferrer\" target=\"_blank\" href=\"https://scikit-learn.org/1.6/modules/generated/sklearn.neighbors.KNeighborsClassifier.html\">?<span>Documentation for KNeighborsClassifier</span></a><span class=\"sk-estimator-doc-link fitted\">i<span>Fitted</span></span></div></label><div class=\"sk-toggleable__content fitted\"><pre>KNeighborsClassifier(n_neighbors=17)</pre></div> </div></div></div></div>"
            ]
          },
          "metadata": {},
          "execution_count": 43
        }
      ]
    },
    {
      "cell_type": "markdown",
      "source": [
        "Make Predictions on Test Set"
      ],
      "metadata": {
        "id": "ghLcl9OG5EZo"
      }
    },
    {
      "cell_type": "code",
      "source": [
        "y_pred = knn.predict(X_test)"
      ],
      "metadata": {
        "id": "yIY0J5RaFNLj"
      },
      "execution_count": 44,
      "outputs": []
    },
    {
      "cell_type": "code",
      "source": [
        "y_pred.shape"
      ],
      "metadata": {
        "colab": {
          "base_uri": "https://localhost:8080/"
        },
        "id": "h0eFnSKMFTEE",
        "outputId": "027b3fc2-65c5-44ef-f2e0-af3df0d92cd3"
      },
      "execution_count": 45,
      "outputs": [
        {
          "output_type": "execute_result",
          "data": {
            "text/plain": [
              "(80,)"
            ]
          },
          "metadata": {},
          "execution_count": 45
        }
      ]
    },
    {
      "cell_type": "code",
      "source": [
        "y_test.shape"
      ],
      "metadata": {
        "colab": {
          "base_uri": "https://localhost:8080/"
        },
        "id": "V1AumN3tFYqn",
        "outputId": "130ad40c-a398-4452-ed7f-fd59092031ac"
      },
      "execution_count": 46,
      "outputs": [
        {
          "output_type": "execute_result",
          "data": {
            "text/plain": [
              "(80,)"
            ]
          },
          "metadata": {},
          "execution_count": 46
        }
      ]
    },
    {
      "cell_type": "markdown",
      "source": [
        "Calculate Accuracy"
      ],
      "metadata": {
        "id": "6Q8HEcCu5IPy"
      }
    },
    {
      "cell_type": "code",
      "source": [
        "from sklearn.metrics import accuracy_score\n",
        "accuracy_score(y_test,y_pred)"
      ],
      "metadata": {
        "colab": {
          "base_uri": "https://localhost:8080/"
        },
        "id": "SZ2RBt2MFgTg",
        "outputId": "d2a410cc-7d72-499d-e7e4-174a77a9a986"
      },
      "execution_count": 47,
      "outputs": [
        {
          "output_type": "execute_result",
          "data": {
            "text/plain": [
              "0.9"
            ]
          },
          "metadata": {},
          "execution_count": 47
        }
      ]
    },
    {
      "cell_type": "markdown",
      "source": [
        "Display the Confusion Matrix"
      ],
      "metadata": {
        "id": "JQ19O6va5NYJ"
      }
    },
    {
      "cell_type": "code",
      "source": [
        "from sklearn.metrics import confusion_matrix\n",
        "confusion_matrix(y_test,y_pred)"
      ],
      "metadata": {
        "colab": {
          "base_uri": "https://localhost:8080/"
        },
        "id": "fZSZGMDNFqZP",
        "outputId": "c6432736-a72f-4763-ed0b-1231fb29a614"
      },
      "execution_count": 48,
      "outputs": [
        {
          "output_type": "execute_result",
          "data": {
            "text/plain": [
              "array([[47,  4],\n",
              "       [ 4, 25]])"
            ]
          },
          "metadata": {},
          "execution_count": 48
        }
      ]
    },
    {
      "cell_type": "markdown",
      "source": [
        "Find Best k Using Loop (1 to 25)"
      ],
      "metadata": {
        "id": "J5UyO0aL5S95"
      }
    },
    {
      "cell_type": "code",
      "source": [
        "# 2nd method\n",
        "accuracy = []\n",
        "\n",
        "for i in range(1,26):\n",
        "  knn = KNeighborsClassifier(n_neighbors=i)\n",
        "  knn.fit(X_train,y_train)\n",
        "  accuracy.append(accuracy_score(y_test,knn.predict(X_test)))\n"
      ],
      "metadata": {
        "id": "LK6nRZCCF8QS"
      },
      "execution_count": 49,
      "outputs": []
    },
    {
      "cell_type": "code",
      "source": [
        "accuracy"
      ],
      "metadata": {
        "colab": {
          "base_uri": "https://localhost:8080/"
        },
        "id": "kSlKGAtDGbyo",
        "outputId": "da60a226-d25f-4810-8bb3-76535e1de95d"
      },
      "execution_count": 50,
      "outputs": [
        {
          "output_type": "execute_result",
          "data": {
            "text/plain": [
              "[0.8,\n",
              " 0.8375,\n",
              " 0.85,\n",
              " 0.8875,\n",
              " 0.8875,\n",
              " 0.9,\n",
              " 0.925,\n",
              " 0.925,\n",
              " 0.9125,\n",
              " 0.9125,\n",
              " 0.9125,\n",
              " 0.9125,\n",
              " 0.9125,\n",
              " 0.9125,\n",
              " 0.9125,\n",
              " 0.9,\n",
              " 0.9,\n",
              " 0.8875,\n",
              " 0.9,\n",
              " 0.9,\n",
              " 0.9,\n",
              " 0.8875,\n",
              " 0.9,\n",
              " 0.9,\n",
              " 0.9]"
            ]
          },
          "metadata": {},
          "execution_count": 50
        }
      ]
    },
    {
      "cell_type": "code",
      "source": [
        "plt.plot(range(1,26),accuracy)"
      ],
      "metadata": {
        "colab": {
          "base_uri": "https://localhost:8080/",
          "height": 447
        },
        "id": "rvWS-EoiGeY-",
        "outputId": "1fa086ab-31ba-4d14-80d1-0b41bbe84dcb"
      },
      "execution_count": 51,
      "outputs": [
        {
          "output_type": "execute_result",
          "data": {
            "text/plain": [
              "[<matplotlib.lines.Line2D at 0x7f1c3a35a910>]"
            ]
          },
          "metadata": {},
          "execution_count": 51
        },
        {
          "output_type": "display_data",
          "data": {
            "text/plain": [
              "<Figure size 640x480 with 1 Axes>"
            ],
            "image/png": "[encoded data removed]"
          },
          "metadata": {}
        }
      ]
    },
    {
      "cell_type": "code",
      "source": [
        "knn = KNeighborsClassifier(n_neighbors=7)\n",
        "knn.fit(X_train,y_train)"
      ],
      "metadata": {
        "colab": {
          "base_uri": "https://localhost:8080/",
          "height": 80
        },
        "id": "m9dMiVwZGpGd",
        "outputId": "ff208238-f6a6-4643-dc10-d8ebc6870f20"
      },
      "execution_count": 52,
      "outputs": [
        {
          "output_type": "execute_result",
          "data": {
            "text/plain": [
              "KNeighborsClassifier(n_neighbors=7)"
            ],
            "text/html": [
              "<style>#sk-container-id-3 {\n",
              "  /* Definition of color scheme common for light and dark mode */\n",
              "  --sklearn-color-text: #000;\n",
              "  --sklearn-color-text-muted: #666;\n",
              "  --sklearn-color-line: gray;\n",
              "  /* Definition of color scheme for unfitted estimators */\n",
              "  --sklearn-color-unfitted-level-0: #fff5e6;\n",
              "  --sklearn-color-unfitted-level-1: #f6e4d2;\n",
              "  --sklearn-color-unfitted-level-2: #ffe0b3;\n",
              "  --sklearn-color-unfitted-level-3: chocolate;\n",
              "  /* Definition of color scheme for fitted estimators */\n",
              "  --sklearn-color-fitted-level-0: #f0f8ff;\n",
              "  --sklearn-color-fitted-level-1: #d4ebff;\n",
              "  --sklearn-color-fitted-level-2: #b3dbfd;\n",
              "  --sklearn-color-fitted-level-3: cornflowerblue;\n",
              "\n",
              "  /* Specific color for light theme */\n",
              "  --sklearn-color-text-on-default-background: var(--sg-text-color, var(--theme-code-foreground, var(--jp-content-font-color1, black)));\n",
              "  --sklearn-color-background: var(--sg-background-color, var(--theme-background, var(--jp-layout-color0, white)));\n",
              "  --sklearn-color-border-box: var(--sg-text-color, var(--theme-code-foreground, var(--jp-content-font-color1, black)));\n",
              "  --sklearn-color-icon: #696969;\n",
              "\n",
              "  @media (prefers-color-scheme: dark) {\n",
              "    /* Redefinition of color scheme for dark theme */\n",
              "    --sklearn-color-text-on-default-background: var(--sg-text-color, var(--theme-code-foreground, var(--jp-content-font-color1, white)));\n",
              "    --sklearn-color-background: var(--sg-background-color, var(--theme-background, var(--jp-layout-color0, #111)));\n",
              "    --sklearn-color-border-box: var(--sg-text-color, var(--theme-code-foreground, var(--jp-content-font-color1, white)));\n",
              "    --sklearn-color-icon: #878787;\n",
              "  }\n",
              "}\n",
              "\n",
              "#sk-container-id-3 {\n",
              "  color: var(--sklearn-color-text);\n",
              "}\n",
              "\n",
              "#sk-container-id-3 pre {\n",
              "  padding: 0;\n",
              "}\n",
              "\n",
              "#sk-container-id-3 input.sk-hidden--visually {\n",
              "  border: 0;\n",
              "  clip: rect(1px 1px 1px 1px);\n",
              "  clip: rect(1px, 1px, 1px, 1px);\n",
              "  height: 1px;\n",
              "  margin: -1px;\n",
              "  overflow: hidden;\n",
              "  padding: 0;\n",
              "  position: absolute;\n",
              "  width: 1px;\n",
              "}\n",
              "\n",
              "#sk-container-id-3 div.sk-dashed-wrapped {\n",
              "  border: 1px dashed var(--sklearn-color-line);\n",
              "  margin: 0 0.4em 0.5em 0.4em;\n",
              "  box-sizing: border-box;\n",
              "  padding-bottom: 0.4em;\n",
              "  background-color: var(--sklearn-color-background);\n",
              "}\n",
              "\n",
              "#sk-container-id-3 div.sk-container {\n",
              "  /* jupyter's `normalize.less` sets `[hidden] { display: none; }`\n",
              "     but bootstrap.min.css set `[hidden] { display: none !important; }`\n",
              "     so we also need the `!important` here to be able to override the\n",
              "     default hidden behavior on the sphinx rendered scikit-learn.org.\n",
              "     See: https://github.com/scikit-learn/scikit-learn/issues/21755 */\n",
              "  display: inline-block !important;\n",
              "  position: relative;\n",
              "}\n",
              "\n",
              "#sk-container-id-3 div.sk-text-repr-fallback {\n",
              "  display: none;\n",
              "}\n",
              "\n",
              "div.sk-parallel-item,\n",
              "div.sk-serial,\n",
              "div.sk-item {\n",
              "  /* draw centered vertical line to link estimators */\n",
              "  background-image: linear-gradient(var(--sklearn-color-text-on-default-background), var(--sklearn-color-text-on-default-background));\n",
              "  background-size: 2px 100%;\n",
              "  background-repeat: no-repeat;\n",
              "  background-position: center center;\n",
              "}\n",
              "\n",
              "/* Parallel-specific style estimator block */\n",
              "\n",
              "#sk-container-id-3 div.sk-parallel-item::after {\n",
              "  content: \"\";\n",
              "  width: 100%;\n",
              "  border-bottom: 2px solid var(--sklearn-color-text-on-default-background);\n",
              "  flex-grow: 1;\n",
              "}\n",
              "\n",
              "#sk-container-id-3 div.sk-parallel {\n",
              "  display: flex;\n",
              "  align-items: stretch;\n",
              "  justify-content: center;\n",
              "  background-color: var(--sklearn-color-background);\n",
              "  position: relative;\n",
              "}\n",
              "\n",
              "#sk-container-id-3 div.sk-parallel-item {\n",
              "  display: flex;\n",
              "  flex-direction: column;\n",
              "}\n",
              "\n",
              "#sk-container-id-3 div.sk-parallel-item:first-child::after {\n",
              "  align-self: flex-end;\n",
              "  width: 50%;\n",
              "}\n",
              "\n",
              "#sk-container-id-3 div.sk-parallel-item:last-child::after {\n",
              "  align-self: flex-start;\n",
              "  width: 50%;\n",
              "}\n",
              "\n",
              "#sk-container-id-3 div.sk-parallel-item:only-child::after {\n",
              "  width: 0;\n",
              "}\n",
              "\n",
              "/* Serial-specific style estimator block */\n",
              "\n",
              "#sk-container-id-3 div.sk-serial {\n",
              "  display: flex;\n",
              "  flex-direction: column;\n",
              "  align-items: center;\n",
              "  background-color: var(--sklearn-color-background);\n",
              "  padding-right: 1em;\n",
              "  padding-left: 1em;\n",
              "}\n",
              "\n",
              "\n",
              "/* Toggleable style: style used for estimator/Pipeline/ColumnTransformer box that is\n",
              "clickable and can be expanded/collapsed.\n",
              "- Pipeline and ColumnTransformer use this feature and define the default style\n",
              "- Estimators will overwrite some part of the style using the `sk-estimator` class\n",
              "*/\n",
              "\n",
              "/* Pipeline and ColumnTransformer style (default) */\n",
              "\n",
              "#sk-container-id-3 div.sk-toggleable {\n",
              "  /* Default theme specific background. It is overwritten whether we have a\n",
              "  specific estimator or a Pipeline/ColumnTransformer */\n",
              "  background-color: var(--sklearn-color-background);\n",
              "}\n",
              "\n",
              "/* Toggleable label */\n",
              "#sk-container-id-3 label.sk-toggleable__label {\n",
              "  cursor: pointer;\n",
              "  display: flex;\n",
              "  width: 100%;\n",
              "  margin-bottom: 0;\n",
              "  padding: 0.5em;\n",
              "  box-sizing: border-box;\n",
              "  text-align: center;\n",
              "  align-items: start;\n",
              "  justify-content: space-between;\n",
              "  gap: 0.5em;\n",
              "}\n",
              "\n",
              "#sk-container-id-3 label.sk-toggleable__label .caption {\n",
              "  font-size: 0.6rem;\n",
              "  font-weight: lighter;\n",
              "  color: var(--sklearn-color-text-muted);\n",
              "}\n",
              "\n",
              "#sk-container-id-3 label.sk-toggleable__label-arrow:before {\n",
              "  /* Arrow on the left of the label */\n",
              "  content: \"▸\";\n",
              "  float: left;\n",
              "  margin-right: 0.25em;\n",
              "  color: var(--sklearn-color-icon);\n",
              "}\n",
              "\n",
              "#sk-container-id-3 label.sk-toggleable__label-arrow:hover:before {\n",
              "  color: var(--sklearn-color-text);\n",
              "}\n",
              "\n",
              "/* Toggleable content - dropdown */\n",
              "\n",
              "#sk-container-id-3 div.sk-toggleable__content {\n",
              "  max-height: 0;\n",
              "  max-width: 0;\n",
              "  overflow: hidden;\n",
              "  text-align: left;\n",
              "  /* unfitted */\n",
              "  background-color: var(--sklearn-color-unfitted-level-0);\n",
              "}\n",
              "\n",
              "#sk-container-id-3 div.sk-toggleable__content.fitted {\n",
              "  /* fitted */\n",
              "  background-color: var(--sklearn-color-fitted-level-0);\n",
              "}\n",
              "\n",
              "#sk-container-id-3 div.sk-toggleable__content pre {\n",
              "  margin: 0.2em;\n",
              "  border-radius: 0.25em;\n",
              "  color: var(--sklearn-color-text);\n",
              "  /* unfitted */\n",
              "  background-color: var(--sklearn-color-unfitted-level-0);\n",
              "}\n",
              "\n",
              "#sk-container-id-3 div.sk-toggleable__content.fitted pre {\n",
              "  /* unfitted */\n",
              "  background-color: var(--sklearn-color-fitted-level-0);\n",
              "}\n",
              "\n",
              "#sk-container-id-3 input.sk-toggleable__control:checked~div.sk-toggleable__content {\n",
              "  /* Expand drop-down */\n",
              "  max-height: 200px;\n",
              "  max-width: 100%;\n",
              "  overflow: auto;\n",
              "}\n",
              "\n",
              "#sk-container-id-3 input.sk-toggleable__control:checked~label.sk-toggleable__label-arrow:before {\n",
              "  content: \"▾\";\n",
              "}\n",
              "\n",
              "/* Pipeline/ColumnTransformer-specific style */\n",
              "\n",
              "#sk-container-id-3 div.sk-label input.sk-toggleable__control:checked~label.sk-toggleable__label {\n",
              "  color: var(--sklearn-color-text);\n",
              "  background-color: var(--sklearn-color-unfitted-level-2);\n",
              "}\n",
              "\n",
              "#sk-container-id-3 div.sk-label.fitted input.sk-toggleable__control:checked~label.sk-toggleable__label {\n",
              "  background-color: var(--sklearn-color-fitted-level-2);\n",
              "}\n",
              "\n",
              "/* Estimator-specific style */\n",
              "\n",
              "/* Colorize estimator box */\n",
              "#sk-container-id-3 div.sk-estimator input.sk-toggleable__control:checked~label.sk-toggleable__label {\n",
              "  /* unfitted */\n",
              "  background-color: var(--sklearn-color-unfitted-level-2);\n",
              "}\n",
              "\n",
              "#sk-container-id-3 div.sk-estimator.fitted input.sk-toggleable__control:checked~label.sk-toggleable__label {\n",
              "  /* fitted */\n",
              "  background-color: var(--sklearn-color-fitted-level-2);\n",
              "}\n",
              "\n",
              "#sk-container-id-3 div.sk-label label.sk-toggleable__label,\n",
              "#sk-container-id-3 div.sk-label label {\n",
              "  /* The background is the default theme color */\n",
              "  color: var(--sklearn-color-text-on-default-background);\n",
              "}\n",
              "\n",
              "/* On hover, darken the color of the background */\n",
              "#sk-container-id-3 div.sk-label:hover label.sk-toggleable__label {\n",
              "  color: var(--sklearn-color-text);\n",
              "  background-color: var(--sklearn-color-unfitted-level-2);\n",
              "}\n",
              "\n",
              "/* Label box, darken color on hover, fitted */\n",
              "#sk-container-id-3 div.sk-label.fitted:hover label.sk-toggleable__label.fitted {\n",
              "  color: var(--sklearn-color-text);\n",
              "  background-color: var(--sklearn-color-fitted-level-2);\n",
              "}\n",
              "\n",
              "/* Estimator label */\n",
              "\n",
              "#sk-container-id-3 div.sk-label label {\n",
              "  font-family: monospace;\n",
              "  font-weight: bold;\n",
              "  display: inline-block;\n",
              "  line-height: 1.2em;\n",
              "}\n",
              "\n",
              "#sk-container-id-3 div.sk-label-container {\n",
              "  text-align: center;\n",
              "}\n",
              "\n",
              "/* Estimator-specific */\n",
              "#sk-container-id-3 div.sk-estimator {\n",
              "  font-family: monospace;\n",
              "  border: 1px dotted var(--sklearn-color-border-box);\n",
              "  border-radius: 0.25em;\n",
              "  box-sizing: border-box;\n",
              "  margin-bottom: 0.5em;\n",
              "  /* unfitted */\n",
              "  background-color: var(--sklearn-color-unfitted-level-0);\n",
              "}\n",
              "\n",
              "#sk-container-id-3 div.sk-estimator.fitted {\n",
              "  /* fitted */\n",
              "  background-color: var(--sklearn-color-fitted-level-0);\n",
              "}\n",
              "\n",
              "/* on hover */\n",
              "#sk-container-id-3 div.sk-estimator:hover {\n",
              "  /* unfitted */\n",
              "  background-color: var(--sklearn-color-unfitted-level-2);\n",
              "}\n",
              "\n",
              "#sk-container-id-3 div.sk-estimator.fitted:hover {\n",
              "  /* fitted */\n",
              "  background-color: var(--sklearn-color-fitted-level-2);\n",
              "}\n",
              "\n",
              "/* Specification for estimator info (e.g. \"i\" and \"?\") */\n",
              "\n",
              "/* Common style for \"i\" and \"?\" */\n",
              "\n",
              ".sk-estimator-doc-link,\n",
              "a:link.sk-estimator-doc-link,\n",
              "a:visited.sk-estimator-doc-link {\n",
              "  float: right;\n",
              "  font-size: smaller;\n",
              "  line-height: 1em;\n",
              "  font-family: monospace;\n",
              "  background-color: var(--sklearn-color-background);\n",
              "  border-radius: 1em;\n",
              "  height: 1em;\n",
              "  width: 1em;\n",
              "  text-decoration: none !important;\n",
              "  margin-left: 0.5em;\n",
              "  text-align: center;\n",
              "  /* unfitted */\n",
              "  border: var(--sklearn-color-unfitted-level-1) 1pt solid;\n",
              "  color: var(--sklearn-color-unfitted-level-1);\n",
              "}\n",
              "\n",
              ".sk-estimator-doc-link.fitted,\n",
              "a:link.sk-estimator-doc-link.fitted,\n",
              "a:visited.sk-estimator-doc-link.fitted {\n",
              "  /* fitted */\n",
              "  border: var(--sklearn-color-fitted-level-1) 1pt solid;\n",
              "  color: var(--sklearn-color-fitted-level-1);\n",
              "}\n",
              "\n",
              "/* On hover */\n",
              "div.sk-estimator:hover .sk-estimator-doc-link:hover,\n",
              ".sk-estimator-doc-link:hover,\n",
              "div.sk-label-container:hover .sk-estimator-doc-link:hover,\n",
              ".sk-estimator-doc-link:hover {\n",
              "  /* unfitted */\n",
              "  background-color: var(--sklearn-color-unfitted-level-3);\n",
              "  color: var(--sklearn-color-background);\n",
              "  text-decoration: none;\n",
              "}\n",
              "\n",
              "div.sk-estimator.fitted:hover .sk-estimator-doc-link.fitted:hover,\n",
              ".sk-estimator-doc-link.fitted:hover,\n",
              "div.sk-label-container:hover .sk-estimator-doc-link.fitted:hover,\n",
              ".sk-estimator-doc-link.fitted:hover {\n",
              "  /* fitted */\n",
              "  background-color: var(--sklearn-color-fitted-level-3);\n",
              "  color: var(--sklearn-color-background);\n",
              "  text-decoration: none;\n",
              "}\n",
              "\n",
              "/* Span, style for the box shown on hovering the info icon */\n",
              ".sk-estimator-doc-link span {\n",
              "  display: none;\n",
              "  z-index: 9999;\n",
              "  position: relative;\n",
              "  font-weight: normal;\n",
              "  right: .2ex;\n",
              "  padding: .5ex;\n",
              "  margin: .5ex;\n",
              "  width: min-content;\n",
              "  min-width: 20ex;\n",
              "  max-width: 50ex;\n",
              "  color: var(--sklearn-color-text);\n",
              "  box-shadow: 2pt 2pt 4pt #999;\n",
              "  /* unfitted */\n",
              "  background: var(--sklearn-color-unfitted-level-0);\n",
              "  border: .5pt solid var(--sklearn-color-unfitted-level-3);\n",
              "}\n",
              "\n",
              ".sk-estimator-doc-link.fitted span {\n",
              "  /* fitted */\n",
              "  background: var(--sklearn-color-fitted-level-0);\n",
              "  border: var(--sklearn-color-fitted-level-3);\n",
              "}\n",
              "\n",
              ".sk-estimator-doc-link:hover span {\n",
              "  display: block;\n",
              "}\n",
              "\n",
              "/* \"?\"-specific style due to the `<a>` HTML tag */\n",
              "\n",
              "#sk-container-id-3 a.estimator_doc_link {\n",
              "  float: right;\n",
              "  font-size: 1rem;\n",
              "  line-height: 1em;\n",
              "  font-family: monospace;\n",
              "  background-color: var(--sklearn-color-background);\n",
              "  border-radius: 1rem;\n",
              "  height: 1rem;\n",
              "  width: 1rem;\n",
              "  text-decoration: none;\n",
              "  /* unfitted */\n",
              "  color: var(--sklearn-color-unfitted-level-1);\n",
              "  border: var(--sklearn-color-unfitted-level-1) 1pt solid;\n",
              "}\n",
              "\n",
              "#sk-container-id-3 a.estimator_doc_link.fitted {\n",
              "  /* fitted */\n",
              "  border: var(--sklearn-color-fitted-level-1) 1pt solid;\n",
              "  color: var(--sklearn-color-fitted-level-1);\n",
              "}\n",
              "\n",
              "/* On hover */\n",
              "#sk-container-id-3 a.estimator_doc_link:hover {\n",
              "  /* unfitted */\n",
              "  background-color: var(--sklearn-color-unfitted-level-3);\n",
              "  color: var(--sklearn-color-background);\n",
              "  text-decoration: none;\n",
              "}\n",
              "\n",
              "#sk-container-id-3 a.estimator_doc_link.fitted:hover {\n",
              "  /* fitted */\n",
              "  background-color: var(--sklearn-color-fitted-level-3);\n",
              "}\n",
              "</style><div id=\"sk-container-id-3\" class=\"sk-top-container\"><div class=\"sk-text-repr-fallback\"><pre>KNeighborsClassifier(n_neighbors=7)</pre><b>In a Jupyter environment, please rerun this cell to show the HTML representation or trust the notebook. <br />On GitHub, the HTML representation is unable to render, please try loading this page with nbviewer.org.</b></div><div class=\"sk-container\" hidden><div class=\"sk-item\"><div class=\"sk-estimator fitted sk-toggleable\"><input class=\"sk-toggleable__control sk-hidden--visually\" id=\"sk-estimator-id-3\" type=\"checkbox\" checked><label for=\"sk-estimator-id-3\" class=\"sk-toggleable__label fitted sk-toggleable__label-arrow\"><div><div>KNeighborsClassifier</div></div><div><a class=\"sk-estimator-doc-link fitted\" rel=\"noreferrer\" target=\"_blank\" href=\"https://scikit-learn.org/1.6/modules/generated/sklearn.neighbors.KNeighborsClassifier.html\">?<span>Documentation for KNeighborsClassifier</span></a><span class=\"sk-estimator-doc-link fitted\">i<span>Fitted</span></span></div></label><div class=\"sk-toggleable__content fitted\"><pre>KNeighborsClassifier(n_neighbors=7)</pre></div> </div></div></div></div>"
            ]
          },
          "metadata": {},
          "execution_count": 52
        }
      ]
    },
    {
      "cell_type": "code",
      "source": [
        "y_pred = knn.predict(X_test)\n",
        "accuracy_score(y_test,y_pred)"
      ],
      "metadata": {
        "colab": {
          "base_uri": "https://localhost:8080/"
        },
        "id": "7D-UkyjyHBKb",
        "outputId": "c1ed0225-ae43-4803-a3a9-18f74fb1f53b"
      },
      "execution_count": 54,
      "outputs": [
        {
          "output_type": "execute_result",
          "data": {
            "text/plain": [
              "0.925"
            ]
          },
          "metadata": {},
          "execution_count": 54
        }
      ]
    },
    {
      "cell_type": "code",
      "source": [
        "def predict_output():\n",
        "  age = int(input(\"Enter the age :\"))\n",
        "  salary = int(input(\"Enter the salary :\"))\n",
        "  return np.array([[age],[salary]])"
      ],
      "metadata": {
        "id": "psurvgt0HLE0"
      },
      "execution_count": 56,
      "outputs": []
    },
    {
      "cell_type": "code",
      "source": [
        "predict_output()"
      ],
      "metadata": {
        "colab": {
          "base_uri": "https://localhost:8080/"
        },
        "id": "x4hutXfcH2WP",
        "outputId": "6341848d-c69a-482c-cca2-006ab77e5f7c"
      },
      "execution_count": 57,
      "outputs": [
        {
          "name": "stdout",
          "output_type": "stream",
          "text": [
            "Enter the age :20\n",
            "Enter the salary :200000\n"
          ]
        },
        {
          "output_type": "execute_result",
          "data": {
            "text/plain": [
              "(2, 1)"
            ]
          },
          "metadata": {},
          "execution_count": 57
        }
      ]
    },
    {
      "cell_type": "code",
      "source": [
        "def predict_output():\n",
        "  age = int(input(\"Enter the age :\"))\n",
        "  salary = int(input(\"Enter the salary :\"))\n",
        "\n",
        "  X_new =  np.array([[age],[salary]]).reshape(1,2)\n",
        "  X_new = scaler.transform(X_new)\n",
        "\n",
        "  if knn.predict(X_new)[0] ==0:\n",
        "    return \"Will not purchase\"\n",
        "  else:\n",
        "    return \"will purchase\""
      ],
      "metadata": {
        "id": "6wNssVaLICJF"
      },
      "execution_count": 62,
      "outputs": []
    },
    {
      "cell_type": "code",
      "source": [
        "predict_output()"
      ],
      "metadata": {
        "colab": {
          "base_uri": "https://localhost:8080/",
          "height": 70
        },
        "id": "ZGT0Sh5tIn9D",
        "outputId": "d857a900-2374-4ccc-aee3-2a5961b55ad0"
      },
      "execution_count": 63,
      "outputs": [
        {
          "name": "stdout",
          "output_type": "stream",
          "text": [
            "Enter the age :45\n",
            "Enter the salary :120000\n"
          ]
        },
        {
          "output_type": "execute_result",
          "data": {
            "text/plain": [
              "'will purchase'"
            ],
            "application/vnd.google.colaboratory.intrinsic+json": {
              "type": "string"
            }
          },
          "metadata": {},
          "execution_count": 63
        }
      ]
    },
    {
      "cell_type": "code",
      "source": [],
      "metadata": {
        "id": "dOB9qUuyIpP4"
      },
      "execution_count": null,
      "outputs": []
    },
    {
      "cell_type": "markdown",
      "source": [
        "#1 . Decision Boundary of knn"
      ],
      "metadata": {
        "id": "9sTCzlCAdnej"
      }
    },
    {
      "cell_type": "markdown",
      "source": [
        "1. what is decision boundary?\n",
        "\n",
        "In a classification problem with two or more classes . a decision boundary or decision surface is a hypersurface that partitions the underlying vector space into two or more sets. one for each class .The classifier will classify all the points on one side of the decision boundary as belonging to one class and all those on the other side as belonging to other class.  "
      ],
      "metadata": {
        "id": "KtKqe9nNfieR"
      }
    },
    {
      "cell_type": "markdown",
      "source": [
        "Important points\n",
        "\n",
        "1.We can draw a decision boundary for all the classification algorithms including the nueralnetwork.\n",
        "2. Decision boundary can be both linear(as in case of SVM) or non-linear(as in case of decision treee classifier or knn)\n",
        "3. Decision boundaries are not always claer cut.That is the transition from one class in feature space to another is not discontinious,but gradual . This effect is common in fuzzy logic based classification algorithms,where membership in one class or other in ambiguous.\n",
        "4. For higher dimension problems the decision boundary acts as a hyperplane(for linear ones)"
      ],
      "metadata": {
        "id": "ZDgr4o2Whbhd"
      }
    },
    {
      "cell_type": "markdown",
      "source": [
        "2.Vornoi Diagram\n",
        "In Mathematics a Voronoi diagram ia a partioning ofa plane into regions based on distance to points in a specific subset of the plane."
      ],
      "metadata": {
        "id": "bP8t_A4Bmk-f"
      }
    },
    {
      "cell_type": "markdown",
      "source": [
        "3. Steps to plot Decision Boundary of KNN(Assuming two input columns).\n",
        " 1.Train the classifier on the training test.\n",
        "\n",
        " 2.Create a Uniform grid(with the help of numpy Meshgrids) of points that densely covers the regions of input space containing the training set.\n",
        " 3.Classify each point on the grid.Store the results in an arrayA,where Aij caontains the predicted class for the point at row i,column j on the grid.\n",
        " 4.plot the array as an image ,where each pixel corresponds to the grid point and its color represents the predicted class.The decision bounday can be seen as contours where the image changes the color.\n",
        "\n",
        " 5.Finally print out the training data with their respective color on the same contour.\n"
      ],
      "metadata": {
        "id": "r1F9zNDlnAET"
      }
    },
    {
      "cell_type": "code",
      "source": [
        "# 1 Training the classifier on the training set that we have did previously only"
      ],
      "metadata": {
        "id": "zhnUr0Tfm7EU"
      },
      "execution_count": 64,
      "outputs": []
    },
    {
      "cell_type": "markdown",
      "source": [
        "step1. Training the classifier on the training set that we have did previously **only**"
      ],
      "metadata": {
        "id": "MuL14NYjo6cK"
      }
    },
    {
      "cell_type": "markdown",
      "source": [
        "purpose of meshgrid\n",
        "\n",
        "Meshgrid is very useful to evaluate the functions on the grid.We can apply any function to that points of a meshplot to plot a function"
      ],
      "metadata": {
        "id": "zgoRs7ZzpZKs"
      }
    },
    {
      "cell_type": "markdown",
      "source": [
        "step2. Creating a meshgrid"
      ],
      "metadata": {
        "id": "a-uoWfnMp1g9"
      }
    },
    {
      "cell_type": "code",
      "source": [
        "a = np.arange(start=X_train[:,0].min()-1,stop=X_train[:,0].max()+1,step=0.01)\n",
        "b = np.arange(start = X_train[:,1].min()-1,stop = X_train[:,0].max()+1,step=0.01)\n",
        "XX,YY = np.meshgrid(a,b)"
      ],
      "metadata": {
        "id": "tVNPtYeDp3WT"
      },
      "execution_count": 75,
      "outputs": []
    },
    {
      "cell_type": "code",
      "source": [
        "XX.shape"
      ],
      "metadata": {
        "colab": {
          "base_uri": "https://localhost:8080/"
        },
        "id": "uOjOE9dnrS_n",
        "outputId": "392bd61d-c9dd-4ccc-fb3b-abf317359943"
      },
      "execution_count": 76,
      "outputs": [
        {
          "output_type": "execute_result",
          "data": {
            "text/plain": [
              "(573, 604)"
            ]
          },
          "metadata": {},
          "execution_count": 76
        }
      ]
    },
    {
      "cell_type": "code",
      "source": [
        "YY.shape"
      ],
      "metadata": {
        "colab": {
          "base_uri": "https://localhost:8080/"
        },
        "id": "meNa5uKUsC_h",
        "outputId": "4cbf9357-2c80-44fc-e3e6-edd21de74bf2"
      },
      "execution_count": 74,
      "outputs": [
        {
          "output_type": "execute_result",
          "data": {
            "text/plain": [
              "(573, 604)"
            ]
          },
          "metadata": {},
          "execution_count": 74
        }
      ]
    },
    {
      "cell_type": "code",
      "source": [
        "573* 604"
      ],
      "metadata": {
        "colab": {
          "base_uri": "https://localhost:8080/"
        },
        "id": "TVCjbmncsGE8",
        "outputId": "8ccea28b-9381-4ee7-c0ac-ea1efe65c296"
      },
      "execution_count": 77,
      "outputs": [
        {
          "output_type": "execute_result",
          "data": {
            "text/plain": [
              "346092"
            ]
          },
          "metadata": {},
          "execution_count": 77
        }
      ]
    },
    {
      "cell_type": "markdown",
      "source": [
        "Step 3: Classifying every point on the meshgrd"
      ],
      "metadata": {
        "id": "M9OWv6V6uQh5"
      }
    },
    {
      "cell_type": "code",
      "source": [
        "print(XX[0][0])\n",
        "print(YY[0][0])\n",
        "knn.predict(np.array([-2.875708350220804,-2.5623493620100066]).reshape(1,2))"
      ],
      "metadata": {
        "colab": {
          "base_uri": "https://localhost:8080/"
        },
        "id": "7yxMTBB2sRLZ",
        "outputId": "260c8f7f-e5f2-45c9-c41f-c81098396b10"
      },
      "execution_count": 79,
      "outputs": [
        {
          "output_type": "stream",
          "name": "stdout",
          "text": [
            "-2.875708350220804\n",
            "-2.5623493620100066\n"
          ]
        },
        {
          "output_type": "execute_result",
          "data": {
            "text/plain": [
              "array([0])"
            ]
          },
          "metadata": {},
          "execution_count": 79
        }
      ]
    },
    {
      "cell_type": "code",
      "source": [
        "#Example\n",
        "m = np.array([[1,2,3],[4,5,6]])\n",
        "n = np.array([[7,8,9],[0,0,0]])\n",
        "z = np.array([m.ravel(),n.ravel()])\n",
        "print(z)\n",
        "print(z.shape)"
      ],
      "metadata": {
        "colab": {
          "base_uri": "https://localhost:8080/"
        },
        "id": "9lU48qxfskAn",
        "outputId": "53fa8b0e-3d8b-4ea6-e574-a1477284e2f2"
      },
      "execution_count": 86,
      "outputs": [
        {
          "output_type": "stream",
          "name": "stdout",
          "text": [
            "[[1 2 3 4 5 6]\n",
            " [7 8 9 0 0 0]]\n",
            "(2, 6)\n"
          ]
        }
      ]
    },
    {
      "cell_type": "code",
      "source": [
        "#Example\n",
        "m = np.array([[1,2,3],[4,5,6]])\n",
        "n = np.array([[7,8,9],[0,0,0]])\n",
        "z = np.array([m.ravel(),n.ravel()]).T\n",
        "print(z)\n",
        "print(z.shape)"
      ],
      "metadata": {
        "colab": {
          "base_uri": "https://localhost:8080/"
        },
        "id": "E6LGm_wSvM-d",
        "outputId": "c52aedf2-65eb-4b8d-ac60-67e4b29bfcae"
      },
      "execution_count": 91,
      "outputs": [
        {
          "output_type": "stream",
          "name": "stdout",
          "text": [
            "[[1 7]\n",
            " [2 8]\n",
            " [3 9]\n",
            " [4 0]\n",
            " [5 0]\n",
            " [6 0]]\n",
            "(6, 2)\n"
          ]
        }
      ]
    },
    {
      "cell_type": "code",
      "source": [
        "np.array([XX.ravel(),YY.ravel()])"
      ],
      "metadata": {
        "colab": {
          "base_uri": "https://localhost:8080/"
        },
        "id": "_fQHuFE-uGin",
        "outputId": "0485b44a-045b-4cc8-ecd3-1508e4b5aae5"
      },
      "execution_count": 92,
      "outputs": [
        {
          "output_type": "execute_result",
          "data": {
            "text/plain": [
              "array([[-2.87570835, -2.86570835, -2.85570835, ...,  3.13429165,\n",
              "         3.14429165,  3.15429165],\n",
              "       [-2.56234936, -2.56234936, -2.56234936, ...,  3.15765064,\n",
              "         3.15765064,  3.15765064]])"
            ]
          },
          "metadata": {},
          "execution_count": 92
        }
      ]
    },
    {
      "cell_type": "code",
      "source": [
        "input_array = np.array([XX.ravel(),YY.ravel()]).T"
      ],
      "metadata": {
        "id": "gWjlFP9NufFe"
      },
      "execution_count": 94,
      "outputs": []
    },
    {
      "cell_type": "code",
      "source": [
        "labels = knn.predict(input_array)"
      ],
      "metadata": {
        "id": "vOcfg8k-vAoO"
      },
      "execution_count": 97,
      "outputs": []
    },
    {
      "cell_type": "code",
      "source": [
        "labels.shape"
      ],
      "metadata": {
        "colab": {
          "base_uri": "https://localhost:8080/"
        },
        "id": "8dMcRbqGvi_6",
        "outputId": "b92ea17b-0769-40cc-e0ae-13905ca92f18"
      },
      "execution_count": 98,
      "outputs": [
        {
          "output_type": "execute_result",
          "data": {
            "text/plain": [
              "(346092,)"
            ]
          },
          "metadata": {},
          "execution_count": 98
        }
      ]
    },
    {
      "cell_type": "markdown",
      "source": [
        "Step 4 :Plotting the array as an image"
      ],
      "metadata": {
        "id": "lC0VSE-GwQ-D"
      }
    },
    {
      "cell_type": "code",
      "source": [
        "plt.contourf(XX,YY,labels.reshape(XX.shape))"
      ],
      "metadata": {
        "colab": {
          "base_uri": "https://localhost:8080/",
          "height": 447
        },
        "id": "saGiH6glvvGU",
        "outputId": "5836873c-5fd2-405c-8432-5156d871cc14"
      },
      "execution_count": 99,
      "outputs": [
        {
          "output_type": "execute_result",
          "data": {
            "text/plain": [
              "<matplotlib.contour.QuadContourSet at 0x7f1c395c7410>"
            ]
          },
          "metadata": {},
          "execution_count": 99
        },
        {
          "output_type": "display_data",
          "data": {
            "text/plain": [
              "<Figure size 640x480 with 1 Axes>"
            ],
            "image/png": "[encoded data removed]"
          },
          "metadata": {}
        }
      ]
    },
    {
      "cell_type": "markdown",
      "source": [
        "Step5 :Plotting all the training data on the plot"
      ],
      "metadata": {
        "id": "8nfXQYsFw2pv"
      }
    },
    {
      "cell_type": "code",
      "source": [
        "plt.contourf(XX,YY,labels.reshape(XX.shape),alpha = 0.5)\n",
        "plt.scatter(X_train[:,0],X_train[:,1],c=y_train)"
      ],
      "metadata": {
        "colab": {
          "base_uri": "https://localhost:8080/",
          "height": 447
        },
        "id": "2Aohg_qTwvUz",
        "outputId": "5221933a-ce95-4ee0-90a0-7d1df8da2353"
      },
      "execution_count": 101,
      "outputs": [
        {
          "output_type": "execute_result",
          "data": {
            "text/plain": [
              "<matplotlib.collections.PathCollection at 0x7f1c3aafff50>"
            ]
          },
          "metadata": {},
          "execution_count": 101
        },
        {
          "output_type": "display_data",
          "data": {
            "text/plain": [
              "<Figure size 640x480 with 1 Axes>"
            ],
            "image/png": "[encoded data removed]"
          },
          "metadata": {}
        }
      ]
    },
    {
      "cell_type": "code",
      "source": [
        "from sklearn.metrics import confusion_matrix\n",
        "confusion_matrix(y_test,y_pred)"
      ],
      "metadata": {
        "colab": {
          "base_uri": "https://localhost:8080/"
        },
        "id": "3_RkjQpn1pQZ",
        "outputId": "b9146ae5-aab7-4f6c-e9cb-ae307c5dc713"
      },
      "execution_count": 106,
      "outputs": [
        {
          "output_type": "execute_result",
          "data": {
            "text/plain": [
              "array([[49,  2],\n",
              "       [ 4, 25]])"
            ]
          },
          "metadata": {},
          "execution_count": 106
        }
      ]
    },
    {
      "cell_type": "markdown",
      "source": [
        " Effect of K on training Error rate and Validation Error Rate\n"
      ],
      "metadata": {
        "id": "_RMLqT6G5lsc"
      }
    },
    {
      "cell_type": "code",
      "source": [
        "error_train = []\n",
        "error_test = []\n",
        "for i in range(1,26):\n",
        "  knn = KNeighborsClassifier(n_neighbors=i)\n",
        "  knn.fit(X_train,y_train)\n",
        "  x = confusion_matrix(y_train,knn.predict(X_train))\n",
        "  y = confusion_matrix(y_test,knn.predict(X_test))\n",
        "  error_train.append((x[0][1]+x[1][0])/x.sum())\n",
        "  error_test.append((y[0][1]+y[1][0])/y.sum())\n"
      ],
      "metadata": {
        "id": "IoJqbRS_xjqM"
      },
      "execution_count": 111,
      "outputs": []
    },
    {
      "cell_type": "code",
      "source": [
        "plt.plot(range(1,26),error_train,label='Training Error Rate')\n",
        "plt.plot(range(1,26),error_test,label = 'Test/Validation Error Rate')\n",
        "plt.xlabel('K Value')\n",
        "plt.ylabel('Error')\n",
        "plt.legend()"
      ],
      "metadata": {
        "colab": {
          "base_uri": "https://localhost:8080/",
          "height": 466
        },
        "id": "TQVI_HZB0EPh",
        "outputId": "f48c6837-5ff2-48d6-878d-55264dc533da"
      },
      "execution_count": 112,
      "outputs": [
        {
          "output_type": "execute_result",
          "data": {
            "text/plain": [
              "<matplotlib.legend.Legend at 0x7f1c3a1291d0>"
            ]
          },
          "metadata": {},
          "execution_count": 112
        },
        {
          "output_type": "display_data",
          "data": {
            "text/plain": [
              "<Figure size 640x480 with 1 Axes>"
            ],
            "image/png": "[encoded data removed]"
          },
          "metadata": {}
        }
      ]
    },
    {
      "cell_type": "markdown",
      "source": [
        "Conclusion\n",
        "\n",
        " 1.For smaller values of k=1 the model generally overfits and shows High Varience.\n",
        "\n",
        "\n",
        " 2.For higher values of k=n is the no of rows in training set the model underfits and shows High Bias."
      ],
      "metadata": {
        "id": "wiwfNiKf3VU1"
      }
    }
  ]
}